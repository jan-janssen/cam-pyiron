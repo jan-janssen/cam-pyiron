{
 "cells": [
  {
   "cell_type": "markdown",
   "metadata": {},
   "source": [
    "Local .pyiron config file:\n",
    "```\n",
    "[DEFAULT]  \n",
    "FILE = /Users/jan/pyiron/pyiron.db\n",
    "TOP_LEVEL_DIRS = /Users/jan/PycharmProjects/pyiron_mpie, /Users/jan/pyiron/projects, /Users/jan/Desktop/\n",
    "RESOURCE_PATHS = /Users/jan/pyiron/resources\n",
    "```"
   ]
  },
  {
   "cell_type": "markdown",
   "metadata": {},
   "source": [
    "Remote .pyiron config file:\n",
    "```\n",
    "[DEFAULT]  \n",
    "TOP_LEVEL_DIRS = /cmmc/u, /cmmc/ptmp\n",
    "RESOURCE_PATHS = /u/system/SLES12/soft/pyiron/dev/pyiron-resources-cmmc\n",
    "DISABLE_DATABASE = True\n",
    "```"
   ]
  },
  {
   "cell_type": "markdown",
   "metadata": {},
   "source": [
    "Local queue configuration `~/pyiron/resources/queues/queue.yaml`: \n",
    "```\n",
    "queue_type: REMOTE\n",
    "queue_primary: cm\n",
    "ssh_host: cmti001.bc.rzg.mpg.de\n",
    "ssh_username: janj\n",
    "known_hosts: ~/.ssh/known_hosts\n",
    "ssh_key: ~/.ssh/id_rsa\n",
    "ssh_remote_config_dir: /u/system/SLES12/soft/pyiron/dev/pyiron-resources-cmmc/queues/\n",
    "ssh_remote_path: /cmmc/u/janj/remote/\n",
    "ssh_local_path: /Users/jan/pyiron/projects/\n",
    "ssh_continous_connection: True\n",
    "queues:\n",
    "  cm: {cores_max: 1200, cores_min: 1, run_time_max: 5760}\n",
    "  cmfe: {cores_max: 1200, cores_min: 1, run_time_max: 5760}\n",
    "  cmti: {cores_max: 1200, cores_min: 1, run_time_max: 5760}\n",
    "  s_cmfe: {cores_max: 40, cores_min: 1, run_time_max: 5760}\n",
    "  p_cmfe: {cores_max: 1200, cores_min: 40, run_time_max: 5760}\n",
    "```"
   ]
  },
  {
   "cell_type": "code",
   "execution_count": 1,
   "metadata": {
    "ExecuteTime": {
     "end_time": "2020-08-14T11:25:42.750439Z",
     "start_time": "2020-08-14T11:25:41.090904Z"
    }
   },
   "outputs": [],
   "source": [
    "from pyiron import Project"
   ]
  },
  {
   "cell_type": "code",
   "execution_count": 2,
   "metadata": {
    "ExecuteTime": {
     "end_time": "2020-08-14T11:25:43.330987Z",
     "start_time": "2020-08-14T11:25:42.751828Z"
    }
   },
   "outputs": [],
   "source": [
    "pr = Project(\"murn\")"
   ]
  },
  {
   "cell_type": "code",
   "execution_count": 3,
   "metadata": {},
   "outputs": [],
   "source": [
    "pr.set_logging_level(\"DEBUG\")"
   ]
  },
  {
   "cell_type": "code",
   "execution_count": 4,
   "metadata": {},
   "outputs": [
    {
     "name": "stderr",
     "output_type": "stream",
     "text": [
      "2020-08-21 11:36:37,217 - pyiron_log - DEBUG - sql_query: {'project': '2020/2020-08-21-pyiron-meeting/murn/%'}\n",
      "2020-08-21 11:36:37,356 - pyiron_log - DEBUG - sql_query: {'project': '2020/2020-08-21-pyiron-meeting/murn/%'}\n",
      "2020-08-21 11:36:37,517 - pyiron_log - DEBUG - hdf file does not exist. Removal from database will be attempted.\n",
      "2020-08-21 11:36:37,520 - pyiron_log - DEBUG - Remove job with ID 194 \n",
      "2020-08-21 11:36:37,588 - pyiron_log - DEBUG - sql_query: {'project': '2020/2020-08-21-pyiron-meeting/murn/%'}\n",
      "2020-08-21 11:36:37,857 - pyiron_log - DEBUG - Remove job with ID 195 \n",
      "2020-08-21 11:36:37,858 - pyiron_log - DEBUG - sql_query: {'project': '2020/2020-08-21-pyiron-meeting/murn/%'}\n",
      "2020-08-21 11:36:38,158 - pyiron_log - DEBUG - Remove job with ID 196 \n",
      "2020-08-21 11:36:38,159 - pyiron_log - DEBUG - sql_query: {'project': '2020/2020-08-21-pyiron-meeting/murn/%'}\n",
      "2020-08-21 11:36:38,395 - pyiron_log - DEBUG - Remove job with ID 197 \n",
      "2020-08-21 11:36:38,397 - pyiron_log - DEBUG - sql_query: {'project': '2020/2020-08-21-pyiron-meeting/murn/%'}\n",
      "2020-08-21 11:36:38,535 - pyiron_log - DEBUG - Remove job with ID 198 \n",
      "2020-08-21 11:36:38,537 - pyiron_log - DEBUG - sql_query: {'project': '2020/2020-08-21-pyiron-meeting/murn/%'}\n",
      "2020-08-21 11:36:38,688 - pyiron_log - DEBUG - Remove job with ID 199 \n",
      "2020-08-21 11:36:38,689 - pyiron_log - DEBUG - sql_query: {'project': '2020/2020-08-21-pyiron-meeting/murn/%'}\n",
      "2020-08-21 11:36:38,922 - pyiron_log - DEBUG - Remove job with ID 200 \n",
      "2020-08-21 11:36:38,926 - pyiron_log - DEBUG - sql_query: {'project': '2020/2020-08-21-pyiron-meeting/murn/%'}\n",
      "2020-08-21 11:36:39,124 - pyiron_log - DEBUG - Remove job with ID 201 \n",
      "2020-08-21 11:36:39,195 - pyiron_log - DEBUG - sql_query: {'project': '2020/2020-08-21-pyiron-meeting/murn/%'}\n",
      "2020-08-21 11:36:39,415 - pyiron_log - DEBUG - Remove job with ID 202 \n",
      "2020-08-21 11:36:39,417 - pyiron_log - DEBUG - sql_query: {'project': '2020/2020-08-21-pyiron-meeting/murn/%'}\n",
      "2020-08-21 11:36:40,135 - pyiron_log - DEBUG - Remove job with ID 203 \n",
      "2020-08-21 11:36:40,225 - pyiron_log - DEBUG - sql_query: {'project': '2020/2020-08-21-pyiron-meeting/murn/%'}\n",
      "2020-08-21 11:36:40,428 - pyiron_log - DEBUG - Remove job with ID 204 \n",
      "2020-08-21 11:36:40,449 - pyiron_log - DEBUG - sql_query: {'project': '2020/2020-08-21-pyiron-meeting/murn/%'}\n",
      "2020-08-21 11:36:40,608 - pyiron_log - DEBUG - Remove job with ID 205 \n"
     ]
    }
   ],
   "source": [
    "pr.remove_jobs(recursive=True)"
   ]
  },
  {
   "cell_type": "code",
   "execution_count": 5,
   "metadata": {},
   "outputs": [
    {
     "name": "stderr",
     "output_type": "stream",
     "text": [
      "2020-08-21 11:36:40,716 - pyiron_log - DEBUG - sql_query: {'project': '2020/2020-08-21-pyiron-meeting/murn/%'}\n"
     ]
    },
    {
     "data": {
      "text/html": [
       "<div>\n",
       "<style scoped>\n",
       "    .dataframe tbody tr th:only-of-type {\n",
       "        vertical-align: middle;\n",
       "    }\n",
       "\n",
       "    .dataframe tbody tr th {\n",
       "        vertical-align: top;\n",
       "    }\n",
       "\n",
       "    .dataframe thead th {\n",
       "        text-align: right;\n",
       "    }\n",
       "</style>\n",
       "<table border=\"1\" class=\"dataframe\">\n",
       "  <thead>\n",
       "    <tr style=\"text-align: right;\">\n",
       "      <th></th>\n",
       "    </tr>\n",
       "  </thead>\n",
       "  <tbody>\n",
       "  </tbody>\n",
       "</table>\n",
       "</div>"
      ],
      "text/plain": [
       "Empty DataFrame\n",
       "Columns: []\n",
       "Index: []"
      ]
     },
     "execution_count": 5,
     "metadata": {},
     "output_type": "execute_result"
    }
   ],
   "source": [
    "pr.job_table()"
   ]
  },
  {
   "cell_type": "code",
   "execution_count": 6,
   "metadata": {
    "ExecuteTime": {
     "end_time": "2020-08-14T11:25:09.819290Z",
     "start_time": "2020-08-14T11:25:09.769710Z"
    }
   },
   "outputs": [],
   "source": [
    "structure = pr.create_ase_bulk(\"Al\", cubic=True)"
   ]
  },
  {
   "cell_type": "code",
   "execution_count": 7,
   "metadata": {
    "ExecuteTime": {
     "end_time": "2020-08-14T11:25:09.865172Z",
     "start_time": "2020-08-14T11:25:09.820812Z"
    }
   },
   "outputs": [],
   "source": [
    "job = pr.create_job(pr.job_type.Lammps, \"lmp\")"
   ]
  },
  {
   "cell_type": "code",
   "execution_count": 8,
   "metadata": {
    "ExecuteTime": {
     "end_time": "2020-08-14T11:25:09.903001Z",
     "start_time": "2020-08-14T11:25:09.899842Z"
    }
   },
   "outputs": [],
   "source": [
    "job.structure = structure"
   ]
  },
  {
   "cell_type": "code",
   "execution_count": 9,
   "metadata": {
    "ExecuteTime": {
     "end_time": "2020-08-14T11:25:09.920566Z",
     "start_time": "2020-08-14T11:25:09.904033Z"
    }
   },
   "outputs": [],
   "source": [
    "job.potential = 'Al_Mg_Mendelev_eam'"
   ]
  },
  {
   "cell_type": "code",
   "execution_count": 10,
   "metadata": {
    "ExecuteTime": {
     "end_time": "2020-08-14T11:25:09.923571Z",
     "start_time": "2020-08-14T11:25:09.921966Z"
    }
   },
   "outputs": [],
   "source": [
    "job.server.run_mode.interactive = True"
   ]
  },
  {
   "cell_type": "code",
   "execution_count": 11,
   "metadata": {
    "ExecuteTime": {
     "end_time": "2020-08-14T11:25:10.152449Z",
     "start_time": "2020-08-14T11:25:09.924638Z"
    }
   },
   "outputs": [],
   "source": [
    "murn = job.create_job(pr.job_type.Murnaghan, \"murn\")"
   ]
  },
  {
   "cell_type": "code",
   "execution_count": 12,
   "metadata": {},
   "outputs": [
    {
     "name": "stderr",
     "output_type": "stream",
     "text": [
      "2020-08-21 11:36:42,758 - pyiron_log - DEBUG - Updated the run time limit to: 5760\n"
     ]
    }
   ],
   "source": [
    "murn.server.queue = \"cm\""
   ]
  },
  {
   "cell_type": "code",
   "execution_count": 13,
   "metadata": {},
   "outputs": [
    {
     "name": "stderr",
     "output_type": "stream",
     "text": [
      "2020-08-21 11:36:42,862 - pyiron_log - DEBUG - sql_query: {'project': '2020/2020-08-21-pyiron-meeting/murn/%'}\n"
     ]
    },
    {
     "data": {
      "text/html": [
       "<div>\n",
       "<style scoped>\n",
       "    .dataframe tbody tr th:only-of-type {\n",
       "        vertical-align: middle;\n",
       "    }\n",
       "\n",
       "    .dataframe tbody tr th {\n",
       "        vertical-align: top;\n",
       "    }\n",
       "\n",
       "    .dataframe thead th {\n",
       "        text-align: right;\n",
       "    }\n",
       "</style>\n",
       "<table border=\"1\" class=\"dataframe\">\n",
       "  <thead>\n",
       "    <tr style=\"text-align: right;\">\n",
       "      <th></th>\n",
       "    </tr>\n",
       "  </thead>\n",
       "  <tbody>\n",
       "  </tbody>\n",
       "</table>\n",
       "</div>"
      ],
      "text/plain": [
       "Empty DataFrame\n",
       "Columns: []\n",
       "Index: []"
      ]
     },
     "execution_count": 13,
     "metadata": {},
     "output_type": "execute_result"
    }
   ],
   "source": [
    "pr.job_table()"
   ]
  },
  {
   "cell_type": "code",
   "execution_count": 14,
   "metadata": {
    "ExecuteTime": {
     "end_time": "2020-08-14T11:25:10.610395Z",
     "start_time": "2020-08-14T11:25:10.181574Z"
    }
   },
   "outputs": [
    {
     "name": "stderr",
     "output_type": "stream",
     "text": [
      "2020-08-21 11:36:43,092 - pyiron_log - INFO - run job: murn id: None, status: initialized\n",
      "2020-08-21 11:36:44,691 - pyiron_log - DEBUG - Not supported parameter used!\n",
      "2020-08-21 11:36:44,776 - pyiron_log - INFO - run job: murn id: 194, status: created\n"
     ]
    },
    {
     "name": "stdout",
     "output_type": "stream",
     "text": [
      "The job murn was saved and received the ID: 194\n"
     ]
    },
    {
     "name": "stderr",
     "output_type": "stream",
     "text": [
      "/Users/jan/PycharmProjects/pysqa/pysqa/utils/remote.py:238: UserWarning: \n",
      "  warnings.warn(stderr.read().decode())\n",
      "100%|██████████| 1/1 [00:00<00:00,  3.29it/s]\n",
      "100%|██████████| 1/1 [00:00<00:00, 11.41it/s]\n",
      "2020-08-21 11:36:48,937 - pyiron_log - DEBUG - submitted murn\n",
      "2020-08-21 11:36:48,945 - pyiron_log - DEBUG - job status: submitted\n",
      "2020-08-21 11:36:48,962 - pyiron_log - INFO - job: murn id: 194, status: submitted, submitted: queue id 991257\n"
     ]
    },
    {
     "name": "stdout",
     "output_type": "stream",
     "text": [
      "Queue system id:  991257\n"
     ]
    }
   ],
   "source": [
    "murn.run()"
   ]
  },
  {
   "cell_type": "code",
   "execution_count": 15,
   "metadata": {
    "ExecuteTime": {
     "start_time": "2020-08-14T11:25:06.476Z"
    }
   },
   "outputs": [
    {
     "name": "stderr",
     "output_type": "stream",
     "text": [
      "2020-08-21 11:36:49,158 - pyiron_log - DEBUG - sql_query: {'project': '2020/2020-08-21-pyiron-meeting/murn/%'}\n"
     ]
    },
    {
     "data": {
      "text/html": [
       "<div>\n",
       "<style scoped>\n",
       "    .dataframe tbody tr th:only-of-type {\n",
       "        vertical-align: middle;\n",
       "    }\n",
       "\n",
       "    .dataframe tbody tr th {\n",
       "        vertical-align: top;\n",
       "    }\n",
       "\n",
       "    .dataframe thead th {\n",
       "        text-align: right;\n",
       "    }\n",
       "</style>\n",
       "<table border=\"1\" class=\"dataframe\">\n",
       "  <thead>\n",
       "    <tr style=\"text-align: right;\">\n",
       "      <th></th>\n",
       "      <th>id</th>\n",
       "      <th>status</th>\n",
       "      <th>chemicalformula</th>\n",
       "      <th>job</th>\n",
       "      <th>subjob</th>\n",
       "      <th>projectpath</th>\n",
       "      <th>project</th>\n",
       "      <th>timestart</th>\n",
       "      <th>timestop</th>\n",
       "      <th>totalcputime</th>\n",
       "      <th>computer</th>\n",
       "      <th>hamilton</th>\n",
       "      <th>hamversion</th>\n",
       "      <th>parentid</th>\n",
       "      <th>masterid</th>\n",
       "    </tr>\n",
       "  </thead>\n",
       "  <tbody>\n",
       "    <tr>\n",
       "      <th>0</th>\n",
       "      <td>194</td>\n",
       "      <td>submitted</td>\n",
       "      <td>Al4</td>\n",
       "      <td>murn</td>\n",
       "      <td>/murn</td>\n",
       "      <td>/Users/jan/pyiron/projects/</td>\n",
       "      <td>2020/2020-08-21-pyiron-meeting/murn/</td>\n",
       "      <td>2020-08-21 11:36:44.677827</td>\n",
       "      <td>None</td>\n",
       "      <td>None</td>\n",
       "      <td>pyiron@macbook-pro.mpie.de#1#cm#0</td>\n",
       "      <td>Murnaghan</td>\n",
       "      <td>0.3.0</td>\n",
       "      <td>None</td>\n",
       "      <td>None</td>\n",
       "    </tr>\n",
       "  </tbody>\n",
       "</table>\n",
       "</div>"
      ],
      "text/plain": [
       "    id     status chemicalformula   job subjob                  projectpath  \\\n",
       "0  194  submitted             Al4  murn  /murn  /Users/jan/pyiron/projects/   \n",
       "\n",
       "                                project                  timestart timestop  \\\n",
       "0  2020/2020-08-21-pyiron-meeting/murn/ 2020-08-21 11:36:44.677827     None   \n",
       "\n",
       "  totalcputime                           computer   hamilton hamversion  \\\n",
       "0         None  pyiron@macbook-pro.mpie.de#1#cm#0  Murnaghan      0.3.0   \n",
       "\n",
       "  parentid masterid  \n",
       "0     None     None  "
      ]
     },
     "execution_count": 15,
     "metadata": {},
     "output_type": "execute_result"
    }
   ],
   "source": [
    "pr.job_table()"
   ]
  },
  {
   "cell_type": "code",
   "execution_count": 16,
   "metadata": {},
   "outputs": [
    {
     "data": {
      "text/plain": [
       "991257"
      ]
     },
     "execution_count": 16,
     "metadata": {},
     "output_type": "execute_result"
    }
   ],
   "source": [
    "murn.server.queue_id"
   ]
  },
  {
   "cell_type": "code",
   "execution_count": 17,
   "metadata": {},
   "outputs": [
    {
     "data": {
      "text/plain": [
       "{'user': 'pyiron',\n",
       " 'host': 'macbook-pro.mpie.de',\n",
       " 'run_mode': 'queue',\n",
       " 'queue': 'cm',\n",
       " 'qid': 991257,\n",
       " 'cores': 1,\n",
       " 'threads': 1,\n",
       " 'new_h5': True,\n",
       " 'structure_id': None,\n",
       " 'run_time': 5760,\n",
       " 'memory_limit': None,\n",
       " 'accept_crash': False}"
      ]
     },
     "execution_count": 17,
     "metadata": {},
     "output_type": "execute_result"
    }
   ],
   "source": [
    "murn[\"server\"]"
   ]
  },
  {
   "cell_type": "code",
   "execution_count": 18,
   "metadata": {},
   "outputs": [],
   "source": [
    "from pyiron.base.settings.generic import Settings"
   ]
  },
  {
   "cell_type": "code",
   "execution_count": 19,
   "metadata": {},
   "outputs": [],
   "source": [
    "s = Settings()"
   ]
  },
  {
   "cell_type": "code",
   "execution_count": 20,
   "metadata": {},
   "outputs": [
    {
     "name": "stderr",
     "output_type": "stream",
     "text": [
      "/Users/jan/PycharmProjects/pysqa/pysqa/utils/remote.py:238: UserWarning: \n",
      "  warnings.warn(stderr.read().decode())\n"
     ]
    },
    {
     "data": {
      "text/html": [
       "<div>\n",
       "<style scoped>\n",
       "    .dataframe tbody tr th:only-of-type {\n",
       "        vertical-align: middle;\n",
       "    }\n",
       "\n",
       "    .dataframe tbody tr th {\n",
       "        vertical-align: top;\n",
       "    }\n",
       "\n",
       "    .dataframe thead th {\n",
       "        text-align: right;\n",
       "    }\n",
       "</style>\n",
       "<table border=\"1\" class=\"dataframe\">\n",
       "  <thead>\n",
       "    <tr style=\"text-align: right;\">\n",
       "      <th></th>\n",
       "      <th>jobid</th>\n",
       "      <th>user</th>\n",
       "      <th>jobname</th>\n",
       "      <th>status</th>\n",
       "    </tr>\n",
       "  </thead>\n",
       "  <tbody>\n",
       "    <tr>\n",
       "      <th>216</th>\n",
       "      <td>991257</td>\n",
       "      <td>janj</td>\n",
       "      <td>pi_1</td>\n",
       "      <td>running</td>\n",
       "    </tr>\n",
       "  </tbody>\n",
       "</table>\n",
       "</div>"
      ],
      "text/plain": [
       "      jobid  user jobname   status\n",
       "216  991257  janj    pi_1  running"
      ]
     },
     "execution_count": 20,
     "metadata": {},
     "output_type": "execute_result"
    }
   ],
   "source": [
    "s.queue_adapter.get_queue_status(user=\"janj\")"
   ]
  },
  {
   "cell_type": "code",
   "execution_count": 21,
   "metadata": {},
   "outputs": [],
   "source": [
    "murn = job.create_job(pr.job_type.Murnaghan, \"murn\")"
   ]
  },
  {
   "cell_type": "code",
   "execution_count": 22,
   "metadata": {},
   "outputs": [
    {
     "name": "stderr",
     "output_type": "stream",
     "text": [
      "2020-08-21 11:36:54,293 - pyiron_log - INFO - run job: murn id: 194, status: submitted\n"
     ]
    },
    {
     "name": "stdout",
     "output_type": "stream",
     "text": [
      "Job 194 is waiting in the que!\n"
     ]
    }
   ],
   "source": [
    "murn.run()"
   ]
  },
  {
   "cell_type": "code",
   "execution_count": 23,
   "metadata": {},
   "outputs": [
    {
     "name": "stderr",
     "output_type": "stream",
     "text": [
      "/Users/jan/PycharmProjects/pysqa/pysqa/utils/remote.py:238: UserWarning: \n",
      "  warnings.warn(stderr.read().decode())\n"
     ]
    },
    {
     "data": {
      "text/plain": [
       "True"
      ]
     },
     "execution_count": 23,
     "metadata": {},
     "output_type": "execute_result"
    }
   ],
   "source": [
    "murn.project.queue_check_job_is_waiting_or_running(murn)"
   ]
  },
  {
   "cell_type": "code",
   "execution_count": 24,
   "metadata": {},
   "outputs": [
    {
     "name": "stderr",
     "output_type": "stream",
     "text": [
      "/Users/jan/PycharmProjects/pysqa/pysqa/utils/remote.py:238: UserWarning: \n",
      "  warnings.warn(stderr.read().decode())\n",
      "/Users/jan/PycharmProjects/pysqa/pysqa/utils/remote.py:238: UserWarning: \n",
      "  warnings.warn(stderr.read().decode())\n",
      "/Users/jan/PycharmProjects/pysqa/pysqa/utils/remote.py:238: UserWarning: \n",
      "  warnings.warn(stderr.read().decode())\n",
      "/Users/jan/PycharmProjects/pysqa/pysqa/utils/remote.py:238: UserWarning: \n",
      "  warnings.warn(stderr.read().decode())\n",
      "/Users/jan/PycharmProjects/pysqa/pysqa/utils/remote.py:238: UserWarning: \n",
      "  warnings.warn(stderr.read().decode())\n",
      "/Users/jan/PycharmProjects/pysqa/pysqa/utils/remote.py:238: UserWarning: \n",
      "  warnings.warn(stderr.read().decode())\n",
      "100%|██████████| 1/1 [00:00<00:00,  2.27it/s]\n",
      "100%|██████████| 26/26 [00:06<00:00,  4.33it/s]\n",
      "100%|██████████| 1/1 [00:00<00:00,  2.40it/s]\n"
     ]
    }
   ],
   "source": [
    "pr.wait_for_job(murn)"
   ]
  },
  {
   "cell_type": "code",
   "execution_count": 25,
   "metadata": {},
   "outputs": [
    {
     "name": "stderr",
     "output_type": "stream",
     "text": [
      "2020-08-21 11:37:28,237 - pyiron_log - DEBUG - sql_query: {'project': '2020/2020-08-21-pyiron-meeting/murn/%'}\n"
     ]
    },
    {
     "data": {
      "text/html": [
       "<div>\n",
       "<style scoped>\n",
       "    .dataframe tbody tr th:only-of-type {\n",
       "        vertical-align: middle;\n",
       "    }\n",
       "\n",
       "    .dataframe tbody tr th {\n",
       "        vertical-align: top;\n",
       "    }\n",
       "\n",
       "    .dataframe thead th {\n",
       "        text-align: right;\n",
       "    }\n",
       "</style>\n",
       "<table border=\"1\" class=\"dataframe\">\n",
       "  <thead>\n",
       "    <tr style=\"text-align: right;\">\n",
       "      <th></th>\n",
       "      <th>id</th>\n",
       "      <th>status</th>\n",
       "      <th>chemicalformula</th>\n",
       "      <th>job</th>\n",
       "      <th>subjob</th>\n",
       "      <th>projectpath</th>\n",
       "      <th>project</th>\n",
       "      <th>timestart</th>\n",
       "      <th>timestop</th>\n",
       "      <th>totalcputime</th>\n",
       "      <th>computer</th>\n",
       "      <th>hamilton</th>\n",
       "      <th>hamversion</th>\n",
       "      <th>parentid</th>\n",
       "      <th>masterid</th>\n",
       "    </tr>\n",
       "  </thead>\n",
       "  <tbody>\n",
       "    <tr>\n",
       "      <th>0</th>\n",
       "      <td>194</td>\n",
       "      <td>finished</td>\n",
       "      <td>Al4</td>\n",
       "      <td>murn</td>\n",
       "      <td>/murn</td>\n",
       "      <td>/Users/jan/pyiron/projects/</td>\n",
       "      <td>2020/2020-08-21-pyiron-meeting/murn/</td>\n",
       "      <td>2020-08-21 11:36:44.677827</td>\n",
       "      <td>NaT</td>\n",
       "      <td>NaN</td>\n",
       "      <td>pyiron@macbook-pro.mpie.de#1#cm#0</td>\n",
       "      <td>Murnaghan</td>\n",
       "      <td>0.3.0</td>\n",
       "      <td>None</td>\n",
       "      <td>None</td>\n",
       "    </tr>\n",
       "    <tr>\n",
       "      <th>1</th>\n",
       "      <td>195</td>\n",
       "      <td>finished</td>\n",
       "      <td>None</td>\n",
       "      <td>strain_0_9</td>\n",
       "      <td>/strain_0_9</td>\n",
       "      <td>/Users/jan/pyiron/projects/</td>\n",
       "      <td>2020/2020-08-21-pyiron-meeting/murn/murn_hdf5/</td>\n",
       "      <td>2020-08-21 11:37:20.343516</td>\n",
       "      <td>2020-08-21 11:37:20.343516</td>\n",
       "      <td>0.0</td>\n",
       "      <td>None</td>\n",
       "      <td>Lammps</td>\n",
       "      <td>2019.06.05_default</td>\n",
       "      <td>None</td>\n",
       "      <td>None</td>\n",
       "    </tr>\n",
       "    <tr>\n",
       "      <th>2</th>\n",
       "      <td>196</td>\n",
       "      <td>finished</td>\n",
       "      <td>None</td>\n",
       "      <td>strain_0_92</td>\n",
       "      <td>/strain_0_92</td>\n",
       "      <td>/Users/jan/pyiron/projects/</td>\n",
       "      <td>2020/2020-08-21-pyiron-meeting/murn/murn_hdf5/</td>\n",
       "      <td>2020-08-21 11:37:22.194826</td>\n",
       "      <td>2020-08-21 11:37:22.194826</td>\n",
       "      <td>0.0</td>\n",
       "      <td>None</td>\n",
       "      <td>Lammps</td>\n",
       "      <td>2019.06.05_default</td>\n",
       "      <td>None</td>\n",
       "      <td>None</td>\n",
       "    </tr>\n",
       "    <tr>\n",
       "      <th>3</th>\n",
       "      <td>197</td>\n",
       "      <td>finished</td>\n",
       "      <td>None</td>\n",
       "      <td>strain_0_94</td>\n",
       "      <td>/strain_0_94</td>\n",
       "      <td>/Users/jan/pyiron/projects/</td>\n",
       "      <td>2020/2020-08-21-pyiron-meeting/murn/murn_hdf5/</td>\n",
       "      <td>2020-08-21 11:37:20.531988</td>\n",
       "      <td>2020-08-21 11:37:20.531988</td>\n",
       "      <td>0.0</td>\n",
       "      <td>None</td>\n",
       "      <td>Lammps</td>\n",
       "      <td>2019.06.05_default</td>\n",
       "      <td>None</td>\n",
       "      <td>None</td>\n",
       "    </tr>\n",
       "    <tr>\n",
       "      <th>4</th>\n",
       "      <td>198</td>\n",
       "      <td>finished</td>\n",
       "      <td>None</td>\n",
       "      <td>strain_0_96</td>\n",
       "      <td>/strain_0_96</td>\n",
       "      <td>/Users/jan/pyiron/projects/</td>\n",
       "      <td>2020/2020-08-21-pyiron-meeting/murn/murn_hdf5/</td>\n",
       "      <td>2020-08-21 11:37:21.607661</td>\n",
       "      <td>2020-08-21 11:37:21.607661</td>\n",
       "      <td>0.0</td>\n",
       "      <td>None</td>\n",
       "      <td>Lammps</td>\n",
       "      <td>2019.06.05_default</td>\n",
       "      <td>None</td>\n",
       "      <td>None</td>\n",
       "    </tr>\n",
       "    <tr>\n",
       "      <th>5</th>\n",
       "      <td>199</td>\n",
       "      <td>finished</td>\n",
       "      <td>None</td>\n",
       "      <td>strain_0_98</td>\n",
       "      <td>/strain_0_98</td>\n",
       "      <td>/Users/jan/pyiron/projects/</td>\n",
       "      <td>2020/2020-08-21-pyiron-meeting/murn/murn_hdf5/</td>\n",
       "      <td>2020-08-21 11:37:21.827431</td>\n",
       "      <td>2020-08-21 11:37:21.827431</td>\n",
       "      <td>0.0</td>\n",
       "      <td>None</td>\n",
       "      <td>Lammps</td>\n",
       "      <td>2019.06.05_default</td>\n",
       "      <td>None</td>\n",
       "      <td>None</td>\n",
       "    </tr>\n",
       "    <tr>\n",
       "      <th>6</th>\n",
       "      <td>200</td>\n",
       "      <td>finished</td>\n",
       "      <td>None</td>\n",
       "      <td>strain_1_0</td>\n",
       "      <td>/strain_1_0</td>\n",
       "      <td>/Users/jan/pyiron/projects/</td>\n",
       "      <td>2020/2020-08-21-pyiron-meeting/murn/murn_hdf5/</td>\n",
       "      <td>2020-08-21 11:37:20.975681</td>\n",
       "      <td>2020-08-21 11:37:20.975681</td>\n",
       "      <td>0.0</td>\n",
       "      <td>None</td>\n",
       "      <td>Lammps</td>\n",
       "      <td>2019.06.05_default</td>\n",
       "      <td>None</td>\n",
       "      <td>None</td>\n",
       "    </tr>\n",
       "    <tr>\n",
       "      <th>7</th>\n",
       "      <td>201</td>\n",
       "      <td>finished</td>\n",
       "      <td>None</td>\n",
       "      <td>strain_1_02</td>\n",
       "      <td>/strain_1_02</td>\n",
       "      <td>/Users/jan/pyiron/projects/</td>\n",
       "      <td>2020/2020-08-21-pyiron-meeting/murn/murn_hdf5/</td>\n",
       "      <td>2020-08-21 11:37:22.011663</td>\n",
       "      <td>2020-08-21 11:37:22.011663</td>\n",
       "      <td>0.0</td>\n",
       "      <td>None</td>\n",
       "      <td>Lammps</td>\n",
       "      <td>2019.06.05_default</td>\n",
       "      <td>None</td>\n",
       "      <td>None</td>\n",
       "    </tr>\n",
       "    <tr>\n",
       "      <th>8</th>\n",
       "      <td>202</td>\n",
       "      <td>finished</td>\n",
       "      <td>None</td>\n",
       "      <td>strain_1_04</td>\n",
       "      <td>/strain_1_04</td>\n",
       "      <td>/Users/jan/pyiron/projects/</td>\n",
       "      <td>2020/2020-08-21-pyiron-meeting/murn/murn_hdf5/</td>\n",
       "      <td>2020-08-21 11:37:21.371522</td>\n",
       "      <td>2020-08-21 11:37:21.371522</td>\n",
       "      <td>0.0</td>\n",
       "      <td>None</td>\n",
       "      <td>Lammps</td>\n",
       "      <td>2019.06.05_default</td>\n",
       "      <td>None</td>\n",
       "      <td>None</td>\n",
       "    </tr>\n",
       "    <tr>\n",
       "      <th>9</th>\n",
       "      <td>203</td>\n",
       "      <td>finished</td>\n",
       "      <td>None</td>\n",
       "      <td>strain_1_06</td>\n",
       "      <td>/strain_1_06</td>\n",
       "      <td>/Users/jan/pyiron/projects/</td>\n",
       "      <td>2020/2020-08-21-pyiron-meeting/murn/murn_hdf5/</td>\n",
       "      <td>2020-08-21 11:37:22.393431</td>\n",
       "      <td>2020-08-21 11:37:22.393431</td>\n",
       "      <td>0.0</td>\n",
       "      <td>None</td>\n",
       "      <td>Lammps</td>\n",
       "      <td>2019.06.05_default</td>\n",
       "      <td>None</td>\n",
       "      <td>None</td>\n",
       "    </tr>\n",
       "    <tr>\n",
       "      <th>10</th>\n",
       "      <td>204</td>\n",
       "      <td>finished</td>\n",
       "      <td>None</td>\n",
       "      <td>strain_1_08</td>\n",
       "      <td>/strain_1_08</td>\n",
       "      <td>/Users/jan/pyiron/projects/</td>\n",
       "      <td>2020/2020-08-21-pyiron-meeting/murn/murn_hdf5/</td>\n",
       "      <td>2020-08-21 11:37:21.194676</td>\n",
       "      <td>2020-08-21 11:37:21.194676</td>\n",
       "      <td>0.0</td>\n",
       "      <td>None</td>\n",
       "      <td>Lammps</td>\n",
       "      <td>2019.06.05_default</td>\n",
       "      <td>None</td>\n",
       "      <td>None</td>\n",
       "    </tr>\n",
       "    <tr>\n",
       "      <th>11</th>\n",
       "      <td>205</td>\n",
       "      <td>finished</td>\n",
       "      <td>None</td>\n",
       "      <td>strain_1_1</td>\n",
       "      <td>/strain_1_1</td>\n",
       "      <td>/Users/jan/pyiron/projects/</td>\n",
       "      <td>2020/2020-08-21-pyiron-meeting/murn/murn_hdf5/</td>\n",
       "      <td>2020-08-21 11:37:20.733616</td>\n",
       "      <td>2020-08-21 11:37:20.733616</td>\n",
       "      <td>0.0</td>\n",
       "      <td>None</td>\n",
       "      <td>Lammps</td>\n",
       "      <td>2019.06.05_default</td>\n",
       "      <td>None</td>\n",
       "      <td>None</td>\n",
       "    </tr>\n",
       "  </tbody>\n",
       "</table>\n",
       "</div>"
      ],
      "text/plain": [
       "     id    status chemicalformula          job        subjob  \\\n",
       "0   194  finished             Al4         murn         /murn   \n",
       "1   195  finished            None   strain_0_9   /strain_0_9   \n",
       "2   196  finished            None  strain_0_92  /strain_0_92   \n",
       "3   197  finished            None  strain_0_94  /strain_0_94   \n",
       "4   198  finished            None  strain_0_96  /strain_0_96   \n",
       "5   199  finished            None  strain_0_98  /strain_0_98   \n",
       "6   200  finished            None   strain_1_0   /strain_1_0   \n",
       "7   201  finished            None  strain_1_02  /strain_1_02   \n",
       "8   202  finished            None  strain_1_04  /strain_1_04   \n",
       "9   203  finished            None  strain_1_06  /strain_1_06   \n",
       "10  204  finished            None  strain_1_08  /strain_1_08   \n",
       "11  205  finished            None   strain_1_1   /strain_1_1   \n",
       "\n",
       "                    projectpath  \\\n",
       "0   /Users/jan/pyiron/projects/   \n",
       "1   /Users/jan/pyiron/projects/   \n",
       "2   /Users/jan/pyiron/projects/   \n",
       "3   /Users/jan/pyiron/projects/   \n",
       "4   /Users/jan/pyiron/projects/   \n",
       "5   /Users/jan/pyiron/projects/   \n",
       "6   /Users/jan/pyiron/projects/   \n",
       "7   /Users/jan/pyiron/projects/   \n",
       "8   /Users/jan/pyiron/projects/   \n",
       "9   /Users/jan/pyiron/projects/   \n",
       "10  /Users/jan/pyiron/projects/   \n",
       "11  /Users/jan/pyiron/projects/   \n",
       "\n",
       "                                           project                  timestart  \\\n",
       "0             2020/2020-08-21-pyiron-meeting/murn/ 2020-08-21 11:36:44.677827   \n",
       "1   2020/2020-08-21-pyiron-meeting/murn/murn_hdf5/ 2020-08-21 11:37:20.343516   \n",
       "2   2020/2020-08-21-pyiron-meeting/murn/murn_hdf5/ 2020-08-21 11:37:22.194826   \n",
       "3   2020/2020-08-21-pyiron-meeting/murn/murn_hdf5/ 2020-08-21 11:37:20.531988   \n",
       "4   2020/2020-08-21-pyiron-meeting/murn/murn_hdf5/ 2020-08-21 11:37:21.607661   \n",
       "5   2020/2020-08-21-pyiron-meeting/murn/murn_hdf5/ 2020-08-21 11:37:21.827431   \n",
       "6   2020/2020-08-21-pyiron-meeting/murn/murn_hdf5/ 2020-08-21 11:37:20.975681   \n",
       "7   2020/2020-08-21-pyiron-meeting/murn/murn_hdf5/ 2020-08-21 11:37:22.011663   \n",
       "8   2020/2020-08-21-pyiron-meeting/murn/murn_hdf5/ 2020-08-21 11:37:21.371522   \n",
       "9   2020/2020-08-21-pyiron-meeting/murn/murn_hdf5/ 2020-08-21 11:37:22.393431   \n",
       "10  2020/2020-08-21-pyiron-meeting/murn/murn_hdf5/ 2020-08-21 11:37:21.194676   \n",
       "11  2020/2020-08-21-pyiron-meeting/murn/murn_hdf5/ 2020-08-21 11:37:20.733616   \n",
       "\n",
       "                     timestop  totalcputime  \\\n",
       "0                         NaT           NaN   \n",
       "1  2020-08-21 11:37:20.343516           0.0   \n",
       "2  2020-08-21 11:37:22.194826           0.0   \n",
       "3  2020-08-21 11:37:20.531988           0.0   \n",
       "4  2020-08-21 11:37:21.607661           0.0   \n",
       "5  2020-08-21 11:37:21.827431           0.0   \n",
       "6  2020-08-21 11:37:20.975681           0.0   \n",
       "7  2020-08-21 11:37:22.011663           0.0   \n",
       "8  2020-08-21 11:37:21.371522           0.0   \n",
       "9  2020-08-21 11:37:22.393431           0.0   \n",
       "10 2020-08-21 11:37:21.194676           0.0   \n",
       "11 2020-08-21 11:37:20.733616           0.0   \n",
       "\n",
       "                             computer   hamilton          hamversion parentid  \\\n",
       "0   pyiron@macbook-pro.mpie.de#1#cm#0  Murnaghan               0.3.0     None   \n",
       "1                                None     Lammps  2019.06.05_default     None   \n",
       "2                                None     Lammps  2019.06.05_default     None   \n",
       "3                                None     Lammps  2019.06.05_default     None   \n",
       "4                                None     Lammps  2019.06.05_default     None   \n",
       "5                                None     Lammps  2019.06.05_default     None   \n",
       "6                                None     Lammps  2019.06.05_default     None   \n",
       "7                                None     Lammps  2019.06.05_default     None   \n",
       "8                                None     Lammps  2019.06.05_default     None   \n",
       "9                                None     Lammps  2019.06.05_default     None   \n",
       "10                               None     Lammps  2019.06.05_default     None   \n",
       "11                               None     Lammps  2019.06.05_default     None   \n",
       "\n",
       "   masterid  \n",
       "0      None  \n",
       "1      None  \n",
       "2      None  \n",
       "3      None  \n",
       "4      None  \n",
       "5      None  \n",
       "6      None  \n",
       "7      None  \n",
       "8      None  \n",
       "9      None  \n",
       "10     None  \n",
       "11     None  "
      ]
     },
     "execution_count": 25,
     "metadata": {},
     "output_type": "execute_result"
    }
   ],
   "source": [
    "pr.job_table()"
   ]
  },
  {
   "cell_type": "code",
   "execution_count": null,
   "metadata": {},
   "outputs": [],
   "source": []
  }
 ],
 "metadata": {
  "kernelspec": {
   "display_name": "Python 3",
   "language": "python",
   "name": "python3"
  },
  "language_info": {
   "codemirror_mode": {
    "name": "ipython",
    "version": 3
   },
   "file_extension": ".py",
   "mimetype": "text/x-python",
   "name": "python",
   "nbconvert_exporter": "python",
   "pygments_lexer": "ipython3",
   "version": "3.8.5"
  },
  "toc": {
   "base_numbering": 1,
   "nav_menu": {},
   "number_sections": true,
   "sideBar": true,
   "skip_h1_title": false,
   "title_cell": "Table of Contents",
   "title_sidebar": "Contents",
   "toc_cell": false,
   "toc_position": {},
   "toc_section_display": true,
   "toc_window_display": false
  }
 },
 "nbformat": 4,
 "nbformat_minor": 4
}
