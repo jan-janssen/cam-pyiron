{
 "cells": [
  {
   "cell_type": "markdown",
   "metadata": {
    "heading_collapsed": true
   },
   "source": [
    "# Create project"
   ]
  },
  {
   "cell_type": "markdown",
   "metadata": {
    "heading_collapsed": true,
    "hidden": true
   },
   "source": [
    "## Import"
   ]
  },
  {
   "cell_type": "code",
   "execution_count": 1,
   "metadata": {
    "ExecuteTime": {
     "end_time": "2019-03-19T11:34:18.574732Z",
     "start_time": "2019-03-19T11:34:18.083044Z"
    },
    "hidden": true
   },
   "outputs": [],
   "source": [
    "%matplotlib inline"
   ]
  },
  {
   "cell_type": "code",
   "execution_count": 2,
   "metadata": {
    "ExecuteTime": {
     "end_time": "2019-03-19T11:34:19.659951Z",
     "start_time": "2019-03-19T11:34:18.579186Z"
    },
    "hidden": true
   },
   "outputs": [],
   "source": [
    "import json\n",
    "import matplotlib.pyplot as plt\n",
    "import numpy as np\n",
    "import pandas as pd\n",
    "from pyiron import Project, Atoms\n",
    "from scipy.optimize import minimize"
   ]
  },
  {
   "cell_type": "code",
   "execution_count": 3,
   "metadata": {
    "ExecuteTime": {
     "end_time": "2019-03-19T11:34:19.664970Z",
     "start_time": "2019-03-19T11:34:19.662277Z"
    },
    "hidden": true
   },
   "outputs": [],
   "source": [
    "import warnings  # ignore Lammps warnings \n",
    "warnings.filterwarnings(\"ignore\")"
   ]
  },
  {
   "cell_type": "markdown",
   "metadata": {
    "heading_collapsed": true,
    "hidden": true
   },
   "source": [
    "## Clean up"
   ]
  },
  {
   "cell_type": "code",
   "execution_count": 4,
   "metadata": {
    "ExecuteTime": {
     "end_time": "2019-03-19T11:34:20.108152Z",
     "start_time": "2019-03-19T11:34:19.669795Z"
    },
    "hidden": true
   },
   "outputs": [],
   "source": [
    "pr = Project('fitting')\n",
    "pr.remove_jobs_silently(recursive=True)"
   ]
  },
  {
   "cell_type": "code",
   "execution_count": 5,
   "metadata": {
    "ExecuteTime": {
     "end_time": "2019-03-19T11:34:20.478287Z",
     "start_time": "2019-03-19T11:34:20.112162Z"
    },
    "hidden": true
   },
   "outputs": [],
   "source": [
    "pr = Project('import')\n",
    "pr.remove_jobs_silently(recursive=True)"
   ]
  },
  {
   "cell_type": "code",
   "execution_count": 6,
   "metadata": {
    "ExecuteTime": {
     "end_time": "2019-03-19T11:34:20.879099Z",
     "start_time": "2019-03-19T11:34:20.483197Z"
    },
    "hidden": true
   },
   "outputs": [],
   "source": [
    "pr = Project('dft')\n",
    "pr.remove_jobs_silently(recursive=True)"
   ]
  },
  {
   "cell_type": "markdown",
   "metadata": {},
   "source": [
    "# Get fitting data "
   ]
  },
  {
   "cell_type": "markdown",
   "metadata": {},
   "source": [
    "## Create VASP calculation "
   ]
  },
  {
   "cell_type": "markdown",
   "metadata": {
    "heading_collapsed": true
   },
   "source": [
    "### Setup VASP"
   ]
  },
  {
   "cell_type": "code",
   "execution_count": 7,
   "metadata": {
    "ExecuteTime": {
     "end_time": "2019-03-19T11:34:20.893658Z",
     "start_time": "2019-03-19T11:34:20.880782Z"
    },
    "hidden": true
   },
   "outputs": [],
   "source": [
    "job_vasp = pr.create_job(job_type=pr.job_type.Vasp, job_name='vasp')"
   ]
  },
  {
   "cell_type": "code",
   "execution_count": 8,
   "metadata": {
    "ExecuteTime": {
     "end_time": "2019-03-19T11:34:20.990052Z",
     "start_time": "2019-03-19T11:34:20.896916Z"
    },
    "hidden": true
   },
   "outputs": [],
   "source": [
    "job_vasp.structure = pr.create_ase_bulk('Al')"
   ]
  },
  {
   "cell_type": "code",
   "execution_count": 9,
   "metadata": {
    "ExecuteTime": {
     "end_time": "2019-03-19T11:34:21.013740Z",
     "start_time": "2019-03-19T11:34:20.994048Z"
    },
    "hidden": true
   },
   "outputs": [
    {
     "data": {
      "text/html": [
       "<div>\n",
       "<style scoped>\n",
       "    .dataframe tbody tr th:only-of-type {\n",
       "        vertical-align: middle;\n",
       "    }\n",
       "\n",
       "    .dataframe tbody tr th {\n",
       "        vertical-align: top;\n",
       "    }\n",
       "\n",
       "    .dataframe thead th {\n",
       "        text-align: right;\n",
       "    }\n",
       "</style>\n",
       "<table border=\"1\" class=\"dataframe\">\n",
       "  <thead>\n",
       "    <tr style=\"text-align: right;\">\n",
       "      <th></th>\n",
       "      <th>Parameter</th>\n",
       "      <th>Value</th>\n",
       "      <th>Comment</th>\n",
       "    </tr>\n",
       "  </thead>\n",
       "  <tbody>\n",
       "    <tr>\n",
       "      <th>0</th>\n",
       "      <td>SYSTEM</td>\n",
       "      <td>vasp</td>\n",
       "      <td>jobname</td>\n",
       "    </tr>\n",
       "    <tr>\n",
       "      <th>1</th>\n",
       "      <td>PREC</td>\n",
       "      <td>Accurate</td>\n",
       "      <td></td>\n",
       "    </tr>\n",
       "    <tr>\n",
       "      <th>2</th>\n",
       "      <td>ALGO</td>\n",
       "      <td>Fast</td>\n",
       "      <td></td>\n",
       "    </tr>\n",
       "    <tr>\n",
       "      <th>3</th>\n",
       "      <td>LREAL</td>\n",
       "      <td>False</td>\n",
       "      <td></td>\n",
       "    </tr>\n",
       "    <tr>\n",
       "      <th>4</th>\n",
       "      <td>LWAVE</td>\n",
       "      <td>False</td>\n",
       "      <td></td>\n",
       "    </tr>\n",
       "    <tr>\n",
       "      <th>5</th>\n",
       "      <td>LORBIT</td>\n",
       "      <td>0</td>\n",
       "      <td></td>\n",
       "    </tr>\n",
       "  </tbody>\n",
       "</table>\n",
       "</div>"
      ],
      "text/plain": [
       "  Parameter     Value  Comment\n",
       "0    SYSTEM      vasp  jobname\n",
       "1      PREC  Accurate         \n",
       "2      ALGO      Fast         \n",
       "3     LREAL     False         \n",
       "4     LWAVE     False         \n",
       "5    LORBIT         0         "
      ]
     },
     "execution_count": 9,
     "metadata": {},
     "output_type": "execute_result"
    }
   ],
   "source": [
    "job_vasp.input.incar"
   ]
  },
  {
   "cell_type": "code",
   "execution_count": 10,
   "metadata": {
    "ExecuteTime": {
     "end_time": "2019-03-19T11:34:21.035574Z",
     "start_time": "2019-03-19T11:34:21.019967Z"
    },
    "hidden": true
   },
   "outputs": [
    {
     "data": {
      "text/html": [
       "<div>\n",
       "<style scoped>\n",
       "    .dataframe tbody tr th:only-of-type {\n",
       "        vertical-align: middle;\n",
       "    }\n",
       "\n",
       "    .dataframe tbody tr th {\n",
       "        vertical-align: top;\n",
       "    }\n",
       "\n",
       "    .dataframe thead th {\n",
       "        text-align: right;\n",
       "    }\n",
       "</style>\n",
       "<table border=\"1\" class=\"dataframe\">\n",
       "  <thead>\n",
       "    <tr style=\"text-align: right;\">\n",
       "      <th></th>\n",
       "      <th>Parameter</th>\n",
       "      <th>Value</th>\n",
       "      <th>Comment</th>\n",
       "    </tr>\n",
       "  </thead>\n",
       "  <tbody>\n",
       "    <tr>\n",
       "      <th>0</th>\n",
       "      <td></td>\n",
       "      <td>Kpoints file generated with pyiron</td>\n",
       "      <td></td>\n",
       "    </tr>\n",
       "    <tr>\n",
       "      <th>1</th>\n",
       "      <td></td>\n",
       "      <td>0</td>\n",
       "      <td></td>\n",
       "    </tr>\n",
       "    <tr>\n",
       "      <th>2</th>\n",
       "      <td></td>\n",
       "      <td>Monkhorst_Pack</td>\n",
       "      <td></td>\n",
       "    </tr>\n",
       "    <tr>\n",
       "      <th>3</th>\n",
       "      <td></td>\n",
       "      <td>4 4 4</td>\n",
       "      <td></td>\n",
       "    </tr>\n",
       "    <tr>\n",
       "      <th>4</th>\n",
       "      <td></td>\n",
       "      <td>0 0 0</td>\n",
       "      <td></td>\n",
       "    </tr>\n",
       "  </tbody>\n",
       "</table>\n",
       "</div>"
      ],
      "text/plain": [
       "  Parameter                               Value Comment\n",
       "0            Kpoints file generated with pyiron        \n",
       "1                                             0        \n",
       "2                                Monkhorst_Pack        \n",
       "3                                         4 4 4        \n",
       "4                                         0 0 0        "
      ]
     },
     "execution_count": 10,
     "metadata": {},
     "output_type": "execute_result"
    }
   ],
   "source": [
    "job_vasp.input.kpoints"
   ]
  },
  {
   "cell_type": "markdown",
   "metadata": {},
   "source": [
    "### Calculate Murnaghan "
   ]
  },
  {
   "cell_type": "code",
   "execution_count": 11,
   "metadata": {
    "ExecuteTime": {
     "end_time": "2019-03-19T11:34:21.078450Z",
     "start_time": "2019-03-19T11:34:21.038736Z"
    }
   },
   "outputs": [],
   "source": [
    "murn = job_vasp.create_job(job_type=pr.job_type.Murnaghan, job_name='murn')"
   ]
  },
  {
   "cell_type": "code",
   "execution_count": 12,
   "metadata": {},
   "outputs": [],
   "source": [
    "murn.server.queue = \"cm\""
   ]
  },
  {
   "cell_type": "code",
   "execution_count": 13,
   "metadata": {},
   "outputs": [],
   "source": [
    "murn.server.cores = 11"
   ]
  },
  {
   "cell_type": "code",
   "execution_count": 14,
   "metadata": {
    "ExecuteTime": {
     "end_time": "2019-03-19T11:34:39.564598Z",
     "start_time": "2019-03-19T11:34:21.081597Z"
    }
   },
   "outputs": [
    {
     "name": "stdout",
     "output_type": "stream",
     "text": [
      "The job murn was saved and received the ID: 206\n"
     ]
    },
    {
     "name": "stderr",
     "output_type": "stream",
     "text": [
      "100%|██████████| 1/1 [00:01<00:00,  1.84s/it]\n",
      "100%|██████████| 1/1 [00:00<00:00,  5.24it/s]\n"
     ]
    },
    {
     "name": "stdout",
     "output_type": "stream",
     "text": [
      "Queue system id:  1015670\n"
     ]
    }
   ],
   "source": [
    "murn.run()"
   ]
  },
  {
   "cell_type": "code",
   "execution_count": 15,
   "metadata": {},
   "outputs": [
    {
     "name": "stderr",
     "output_type": "stream",
     "text": [
      "100%|██████████| 1/1 [00:02<00:00,  2.73s/it]\n",
      "100%|██████████| 48/48 [00:30<00:00,  1.55it/s]\n",
      "100%|██████████| 1/1 [00:02<00:00,  2.67s/it]\n"
     ]
    }
   ],
   "source": [
    "pr.wait_for_job(murn)"
   ]
  },
  {
   "cell_type": "code",
   "execution_count": 16,
   "metadata": {
    "ExecuteTime": {
     "end_time": "2019-03-19T11:34:39.879193Z",
     "start_time": "2019-03-19T11:34:39.574699Z"
    }
   },
   "outputs": [
    {
     "data": {
      "image/png": "[encoded data removed]",
      "text/plain": [
       "<Figure size 432x288 with 1 Axes>"
      ]
     },
     "metadata": {
      "needs_background": "light"
     },
     "output_type": "display_data"
    }
   ],
   "source": [
    "murn.plot()"
   ]
  },
  {
   "cell_type": "markdown",
   "metadata": {
    "heading_collapsed": true
   },
   "source": [
    "### Overview "
   ]
  },
  {
   "cell_type": "code",
   "execution_count": 17,
   "metadata": {
    "ExecuteTime": {
     "end_time": "2019-03-19T11:34:39.914591Z",
     "start_time": "2019-03-19T11:34:39.882720Z"
    },
    "hidden": true
   },
   "outputs": [
    {
     "data": {
      "text/html": [
       "<div>\n",
       "<style scoped>\n",
       "    .dataframe tbody tr th:only-of-type {\n",
       "        vertical-align: middle;\n",
       "    }\n",
       "\n",
       "    .dataframe tbody tr th {\n",
       "        vertical-align: top;\n",
       "    }\n",
       "\n",
       "    .dataframe thead th {\n",
       "        text-align: right;\n",
       "    }\n",
       "</style>\n",
       "<table border=\"1\" class=\"dataframe\">\n",
       "  <thead>\n",
       "    <tr style=\"text-align: right;\">\n",
       "      <th></th>\n",
       "      <th>id</th>\n",
       "      <th>status</th>\n",
       "      <th>chemicalformula</th>\n",
       "      <th>job</th>\n",
       "      <th>subjob</th>\n",
       "      <th>projectpath</th>\n",
       "      <th>project</th>\n",
       "      <th>timestart</th>\n",
       "      <th>timestop</th>\n",
       "      <th>totalcputime</th>\n",
       "      <th>computer</th>\n",
       "      <th>hamilton</th>\n",
       "      <th>hamversion</th>\n",
       "      <th>parentid</th>\n",
       "      <th>masterid</th>\n",
       "    </tr>\n",
       "  </thead>\n",
       "  <tbody>\n",
       "    <tr>\n",
       "      <th>0</th>\n",
       "      <td>206</td>\n",
       "      <td>finished</td>\n",
       "      <td>Al</td>\n",
       "      <td>murn</td>\n",
       "      <td>/murn</td>\n",
       "      <td>/Users/jan/pyiron/projects/</td>\n",
       "      <td>2020/2020-08-26-meeting-cambridge/dft/</td>\n",
       "      <td>2020-08-26 17:45:16.116730</td>\n",
       "      <td>NaT</td>\n",
       "      <td>NaN</td>\n",
       "      <td>pyiron@MacBook-Pro.local#11#cm#0</td>\n",
       "      <td>Murnaghan</td>\n",
       "      <td>0.3.0</td>\n",
       "      <td>None</td>\n",
       "      <td>None</td>\n",
       "    </tr>\n",
       "    <tr>\n",
       "      <th>1</th>\n",
       "      <td>207</td>\n",
       "      <td>finished</td>\n",
       "      <td>None</td>\n",
       "      <td>strain_0_9</td>\n",
       "      <td>/strain_0_9</td>\n",
       "      <td>/Users/jan/pyiron/projects/</td>\n",
       "      <td>2020/2020-08-26-meeting-cambridge/dft/murn_hdf5/</td>\n",
       "      <td>2020-08-26 17:45:45.665971</td>\n",
       "      <td>2020-08-26 17:45:45.665971</td>\n",
       "      <td>0.0</td>\n",
       "      <td>None</td>\n",
       "      <td>Vasp</td>\n",
       "      <td>5.4.4</td>\n",
       "      <td>None</td>\n",
       "      <td>None</td>\n",
       "    </tr>\n",
       "    <tr>\n",
       "      <th>2</th>\n",
       "      <td>208</td>\n",
       "      <td>finished</td>\n",
       "      <td>None</td>\n",
       "      <td>strain_0_92</td>\n",
       "      <td>/strain_0_92</td>\n",
       "      <td>/Users/jan/pyiron/projects/</td>\n",
       "      <td>2020/2020-08-26-meeting-cambridge/dft/murn_hdf5/</td>\n",
       "      <td>2020-08-26 17:45:55.925491</td>\n",
       "      <td>2020-08-26 17:45:55.925491</td>\n",
       "      <td>0.0</td>\n",
       "      <td>None</td>\n",
       "      <td>Vasp</td>\n",
       "      <td>5.4.4</td>\n",
       "      <td>None</td>\n",
       "      <td>None</td>\n",
       "    </tr>\n",
       "    <tr>\n",
       "      <th>3</th>\n",
       "      <td>209</td>\n",
       "      <td>finished</td>\n",
       "      <td>None</td>\n",
       "      <td>strain_0_94</td>\n",
       "      <td>/strain_0_94</td>\n",
       "      <td>/Users/jan/pyiron/projects/</td>\n",
       "      <td>2020/2020-08-26-meeting-cambridge/dft/murn_hdf5/</td>\n",
       "      <td>2020-08-26 17:45:46.806305</td>\n",
       "      <td>2020-08-26 17:45:46.806305</td>\n",
       "      <td>0.0</td>\n",
       "      <td>None</td>\n",
       "      <td>Vasp</td>\n",
       "      <td>5.4.4</td>\n",
       "      <td>None</td>\n",
       "      <td>None</td>\n",
       "    </tr>\n",
       "    <tr>\n",
       "      <th>4</th>\n",
       "      <td>210</td>\n",
       "      <td>finished</td>\n",
       "      <td>None</td>\n",
       "      <td>strain_0_96</td>\n",
       "      <td>/strain_0_96</td>\n",
       "      <td>/Users/jan/pyiron/projects/</td>\n",
       "      <td>2020/2020-08-26-meeting-cambridge/dft/murn_hdf5/</td>\n",
       "      <td>2020-08-26 17:45:52.926321</td>\n",
       "      <td>2020-08-26 17:45:52.926321</td>\n",
       "      <td>0.0</td>\n",
       "      <td>None</td>\n",
       "      <td>Vasp</td>\n",
       "      <td>5.4.4</td>\n",
       "      <td>None</td>\n",
       "      <td>None</td>\n",
       "    </tr>\n",
       "    <tr>\n",
       "      <th>5</th>\n",
       "      <td>211</td>\n",
       "      <td>finished</td>\n",
       "      <td>None</td>\n",
       "      <td>strain_0_98</td>\n",
       "      <td>/strain_0_98</td>\n",
       "      <td>/Users/jan/pyiron/projects/</td>\n",
       "      <td>2020/2020-08-26-meeting-cambridge/dft/murn_hdf5/</td>\n",
       "      <td>2020-08-26 17:45:53.838100</td>\n",
       "      <td>2020-08-26 17:45:53.838100</td>\n",
       "      <td>0.0</td>\n",
       "      <td>None</td>\n",
       "      <td>Vasp</td>\n",
       "      <td>5.4.4</td>\n",
       "      <td>None</td>\n",
       "      <td>None</td>\n",
       "    </tr>\n",
       "    <tr>\n",
       "      <th>6</th>\n",
       "      <td>212</td>\n",
       "      <td>finished</td>\n",
       "      <td>None</td>\n",
       "      <td>strain_1_0</td>\n",
       "      <td>/strain_1_0</td>\n",
       "      <td>/Users/jan/pyiron/projects/</td>\n",
       "      <td>2020/2020-08-26-meeting-cambridge/dft/murn_hdf5/</td>\n",
       "      <td>2020-08-26 17:45:49.306411</td>\n",
       "      <td>2020-08-26 17:45:49.306411</td>\n",
       "      <td>0.0</td>\n",
       "      <td>None</td>\n",
       "      <td>Vasp</td>\n",
       "      <td>5.4.4</td>\n",
       "      <td>None</td>\n",
       "      <td>None</td>\n",
       "    </tr>\n",
       "    <tr>\n",
       "      <th>7</th>\n",
       "      <td>213</td>\n",
       "      <td>finished</td>\n",
       "      <td>None</td>\n",
       "      <td>strain_1_02</td>\n",
       "      <td>/strain_1_02</td>\n",
       "      <td>/Users/jan/pyiron/projects/</td>\n",
       "      <td>2020/2020-08-26-meeting-cambridge/dft/murn_hdf5/</td>\n",
       "      <td>2020-08-26 17:45:54.904650</td>\n",
       "      <td>2020-08-26 17:45:54.904650</td>\n",
       "      <td>0.0</td>\n",
       "      <td>None</td>\n",
       "      <td>Vasp</td>\n",
       "      <td>5.4.4</td>\n",
       "      <td>None</td>\n",
       "      <td>None</td>\n",
       "    </tr>\n",
       "    <tr>\n",
       "      <th>8</th>\n",
       "      <td>214</td>\n",
       "      <td>finished</td>\n",
       "      <td>None</td>\n",
       "      <td>strain_1_04</td>\n",
       "      <td>/strain_1_04</td>\n",
       "      <td>/Users/jan/pyiron/projects/</td>\n",
       "      <td>2020/2020-08-26-meeting-cambridge/dft/murn_hdf5/</td>\n",
       "      <td>2020-08-26 17:45:51.687949</td>\n",
       "      <td>2020-08-26 17:45:51.687949</td>\n",
       "      <td>0.0</td>\n",
       "      <td>None</td>\n",
       "      <td>Vasp</td>\n",
       "      <td>5.4.4</td>\n",
       "      <td>None</td>\n",
       "      <td>None</td>\n",
       "    </tr>\n",
       "    <tr>\n",
       "      <th>9</th>\n",
       "      <td>215</td>\n",
       "      <td>finished</td>\n",
       "      <td>None</td>\n",
       "      <td>strain_1_06</td>\n",
       "      <td>/strain_1_06</td>\n",
       "      <td>/Users/jan/pyiron/projects/</td>\n",
       "      <td>2020/2020-08-26-meeting-cambridge/dft/murn_hdf5/</td>\n",
       "      <td>2020-08-26 17:45:56.961379</td>\n",
       "      <td>2020-08-26 17:45:56.961379</td>\n",
       "      <td>0.0</td>\n",
       "      <td>None</td>\n",
       "      <td>Vasp</td>\n",
       "      <td>5.4.4</td>\n",
       "      <td>None</td>\n",
       "      <td>None</td>\n",
       "    </tr>\n",
       "    <tr>\n",
       "      <th>10</th>\n",
       "      <td>216</td>\n",
       "      <td>finished</td>\n",
       "      <td>None</td>\n",
       "      <td>strain_1_08</td>\n",
       "      <td>/strain_1_08</td>\n",
       "      <td>/Users/jan/pyiron/projects/</td>\n",
       "      <td>2020/2020-08-26-meeting-cambridge/dft/murn_hdf5/</td>\n",
       "      <td>2020-08-26 17:45:50.537737</td>\n",
       "      <td>2020-08-26 17:45:50.537737</td>\n",
       "      <td>0.0</td>\n",
       "      <td>None</td>\n",
       "      <td>Vasp</td>\n",
       "      <td>5.4.4</td>\n",
       "      <td>None</td>\n",
       "      <td>None</td>\n",
       "    </tr>\n",
       "    <tr>\n",
       "      <th>11</th>\n",
       "      <td>217</td>\n",
       "      <td>finished</td>\n",
       "      <td>None</td>\n",
       "      <td>strain_1_1</td>\n",
       "      <td>/strain_1_1</td>\n",
       "      <td>/Users/jan/pyiron/projects/</td>\n",
       "      <td>2020/2020-08-26-meeting-cambridge/dft/murn_hdf5/</td>\n",
       "      <td>2020-08-26 17:45:48.243318</td>\n",
       "      <td>2020-08-26 17:45:48.243318</td>\n",
       "      <td>0.0</td>\n",
       "      <td>None</td>\n",
       "      <td>Vasp</td>\n",
       "      <td>5.4.4</td>\n",
       "      <td>None</td>\n",
       "      <td>None</td>\n",
       "    </tr>\n",
       "  </tbody>\n",
       "</table>\n",
       "</div>"
      ],
      "text/plain": [
       "     id    status chemicalformula          job        subjob  \\\n",
       "0   206  finished              Al         murn         /murn   \n",
       "1   207  finished            None   strain_0_9   /strain_0_9   \n",
       "2   208  finished            None  strain_0_92  /strain_0_92   \n",
       "3   209  finished            None  strain_0_94  /strain_0_94   \n",
       "4   210  finished            None  strain_0_96  /strain_0_96   \n",
       "5   211  finished            None  strain_0_98  /strain_0_98   \n",
       "6   212  finished            None   strain_1_0   /strain_1_0   \n",
       "7   213  finished            None  strain_1_02  /strain_1_02   \n",
       "8   214  finished            None  strain_1_04  /strain_1_04   \n",
       "9   215  finished            None  strain_1_06  /strain_1_06   \n",
       "10  216  finished            None  strain_1_08  /strain_1_08   \n",
       "11  217  finished            None   strain_1_1   /strain_1_1   \n",
       "\n",
       "                    projectpath  \\\n",
       "0   /Users/jan/pyiron/projects/   \n",
       "1   /Users/jan/pyiron/projects/   \n",
       "2   /Users/jan/pyiron/projects/   \n",
       "3   /Users/jan/pyiron/projects/   \n",
       "4   /Users/jan/pyiron/projects/   \n",
       "5   /Users/jan/pyiron/projects/   \n",
       "6   /Users/jan/pyiron/projects/   \n",
       "7   /Users/jan/pyiron/projects/   \n",
       "8   /Users/jan/pyiron/projects/   \n",
       "9   /Users/jan/pyiron/projects/   \n",
       "10  /Users/jan/pyiron/projects/   \n",
       "11  /Users/jan/pyiron/projects/   \n",
       "\n",
       "                                             project  \\\n",
       "0             2020/2020-08-26-meeting-cambridge/dft/   \n",
       "1   2020/2020-08-26-meeting-cambridge/dft/murn_hdf5/   \n",
       "2   2020/2020-08-26-meeting-cambridge/dft/murn_hdf5/   \n",
       "3   2020/2020-08-26-meeting-cambridge/dft/murn_hdf5/   \n",
       "4   2020/2020-08-26-meeting-cambridge/dft/murn_hdf5/   \n",
       "5   2020/2020-08-26-meeting-cambridge/dft/murn_hdf5/   \n",
       "6   2020/2020-08-26-meeting-cambridge/dft/murn_hdf5/   \n",
       "7   2020/2020-08-26-meeting-cambridge/dft/murn_hdf5/   \n",
       "8   2020/2020-08-26-meeting-cambridge/dft/murn_hdf5/   \n",
       "9   2020/2020-08-26-meeting-cambridge/dft/murn_hdf5/   \n",
       "10  2020/2020-08-26-meeting-cambridge/dft/murn_hdf5/   \n",
       "11  2020/2020-08-26-meeting-cambridge/dft/murn_hdf5/   \n",
       "\n",
       "                    timestart                   timestop  totalcputime  \\\n",
       "0  2020-08-26 17:45:16.116730                        NaT           NaN   \n",
       "1  2020-08-26 17:45:45.665971 2020-08-26 17:45:45.665971           0.0   \n",
       "2  2020-08-26 17:45:55.925491 2020-08-26 17:45:55.925491           0.0   \n",
       "3  2020-08-26 17:45:46.806305 2020-08-26 17:45:46.806305           0.0   \n",
       "4  2020-08-26 17:45:52.926321 2020-08-26 17:45:52.926321           0.0   \n",
       "5  2020-08-26 17:45:53.838100 2020-08-26 17:45:53.838100           0.0   \n",
       "6  2020-08-26 17:45:49.306411 2020-08-26 17:45:49.306411           0.0   \n",
       "7  2020-08-26 17:45:54.904650 2020-08-26 17:45:54.904650           0.0   \n",
       "8  2020-08-26 17:45:51.687949 2020-08-26 17:45:51.687949           0.0   \n",
       "9  2020-08-26 17:45:56.961379 2020-08-26 17:45:56.961379           0.0   \n",
       "10 2020-08-26 17:45:50.537737 2020-08-26 17:45:50.537737           0.0   \n",
       "11 2020-08-26 17:45:48.243318 2020-08-26 17:45:48.243318           0.0   \n",
       "\n",
       "                            computer   hamilton hamversion parentid masterid  \n",
       "0   pyiron@MacBook-Pro.local#11#cm#0  Murnaghan      0.3.0     None     None  \n",
       "1                               None       Vasp      5.4.4     None     None  \n",
       "2                               None       Vasp      5.4.4     None     None  \n",
       "3                               None       Vasp      5.4.4     None     None  \n",
       "4                               None       Vasp      5.4.4     None     None  \n",
       "5                               None       Vasp      5.4.4     None     None  \n",
       "6                               None       Vasp      5.4.4     None     None  \n",
       "7                               None       Vasp      5.4.4     None     None  \n",
       "8                               None       Vasp      5.4.4     None     None  \n",
       "9                               None       Vasp      5.4.4     None     None  \n",
       "10                              None       Vasp      5.4.4     None     None  \n",
       "11                              None       Vasp      5.4.4     None     None  "
      ]
     },
     "execution_count": 17,
     "metadata": {},
     "output_type": "execute_result"
    }
   ],
   "source": [
    "pr.job_table()"
   ]
  },
  {
   "cell_type": "markdown",
   "metadata": {
    "heading_collapsed": true
   },
   "source": [
    "## Or Import VASP calculation "
   ]
  },
  {
   "cell_type": "code",
   "execution_count": 18,
   "metadata": {
    "ExecuteTime": {
     "end_time": "2019-03-19T11:34:49.430465Z",
     "start_time": "2019-03-19T11:34:39.917187Z"
    },
    "hidden": true
   },
   "outputs": [],
   "source": [
    "for job in pr.iter_jobs():\n",
    "    job.decompress()"
   ]
  },
  {
   "cell_type": "code",
   "execution_count": 19,
   "metadata": {
    "ExecuteTime": {
     "end_time": "2019-03-19T11:34:49.449289Z",
     "start_time": "2019-03-19T11:34:49.442525Z"
    },
    "hidden": true
   },
   "outputs": [],
   "source": [
    "pr_import = Project('import')"
   ]
  },
  {
   "cell_type": "code",
   "execution_count": 20,
   "metadata": {
    "ExecuteTime": {
     "end_time": "2019-03-19T11:34:54.750469Z",
     "start_time": "2019-03-19T11:34:49.452515Z"
    },
    "hidden": true
   },
   "outputs": [
    {
     "name": "stdout",
     "output_type": "stream",
     "text": [
      "strain_0_98 strain_0_98\n",
      "job was stored with the job ID  218\n",
      "strain_0_94 strain_0_94\n",
      "job was stored with the job ID  219\n",
      "strain_1_0 strain_1_0\n",
      "job was stored with the job ID  220\n",
      "strain_0_92 strain_0_92\n",
      "job was stored with the job ID  221\n",
      "strain_0_9 strain_0_9\n",
      "job was stored with the job ID  222\n",
      "strain_1_1 strain_1_1\n",
      "job was stored with the job ID  223\n",
      "strain_1_06 strain_1_06\n",
      "job was stored with the job ID  224\n",
      "strain_1_08 strain_1_08\n",
      "job was stored with the job ID  225\n",
      "strain_1_04 strain_1_04\n",
      "job was stored with the job ID  226\n",
      "strain_0_96 strain_0_96\n",
      "job was stored with the job ID  227\n",
      "strain_1_02 strain_1_02\n",
      "job was stored with the job ID  228\n"
     ]
    }
   ],
   "source": [
    "pr_import.import_from_path(path='dft', recursive=True)"
   ]
  },
  {
   "cell_type": "markdown",
   "metadata": {},
   "source": [
    "# Fit potential "
   ]
  },
  {
   "cell_type": "markdown",
   "metadata": {},
   "source": [
    "## Collect VASP calculation "
   ]
  },
  {
   "cell_type": "markdown",
   "metadata": {},
   "source": [
    "### Setup pyiron table"
   ]
  },
  {
   "cell_type": "code",
   "execution_count": 21,
   "metadata": {
    "ExecuteTime": {
     "end_time": "2019-03-19T11:34:54.782186Z",
     "start_time": "2019-03-19T11:34:54.774917Z"
    }
   },
   "outputs": [],
   "source": [
    "pr_fit = Project('fitting')"
   ]
  },
  {
   "cell_type": "code",
   "execution_count": 22,
   "metadata": {
    "ExecuteTime": {
     "end_time": "2019-03-19T11:34:54.839449Z",
     "start_time": "2019-03-19T11:34:54.788547Z"
    }
   },
   "outputs": [],
   "source": [
    "pyiron_table = pr_fit.create_job(job_type=pr_fit.job_type.TableJob, job_name='analysis')"
   ]
  },
  {
   "cell_type": "code",
   "execution_count": 23,
   "metadata": {
    "ExecuteTime": {
     "end_time": "2019-03-19T11:34:54.849246Z",
     "start_time": "2019-03-19T11:34:54.845112Z"
    }
   },
   "outputs": [],
   "source": [
    "pyiron_table.analysis_project = pr_import\n",
    "# pyiron_table.analysis_project = pr"
   ]
  },
  {
   "cell_type": "code",
   "execution_count": 24,
   "metadata": {
    "ExecuteTime": {
     "end_time": "2019-03-19T11:34:54.866738Z",
     "start_time": "2019-03-19T11:34:54.855129Z"
    }
   },
   "outputs": [
    {
     "data": {
      "text/plain": [
       "True"
      ]
     },
     "execution_count": 24,
     "metadata": {},
     "output_type": "execute_result"
    }
   ],
   "source": [
    "pyiron_table.add.get_structure\n",
    "pyiron_table.add.get_energy_tot\n",
    "pyiron_table.add.get_forces\n",
    "pyiron_table.add.get_job_name"
   ]
  },
  {
   "cell_type": "code",
   "execution_count": 25,
   "metadata": {
    "ExecuteTime": {
     "end_time": "2019-03-19T11:34:54.878560Z",
     "start_time": "2019-03-19T11:34:54.870954Z"
    }
   },
   "outputs": [],
   "source": [
    "pyiron_table.filter_function = pyiron_table.filter.job_type(pr.job_type.Vasp)"
   ]
  },
  {
   "cell_type": "code",
   "execution_count": 26,
   "metadata": {
    "ExecuteTime": {
     "end_time": "2019-03-19T11:35:05.076169Z",
     "start_time": "2019-03-19T11:34:54.883575Z"
    }
   },
   "outputs": [
    {
     "name": "stderr",
     "output_type": "stream",
     "text": [
      "  0%|          | 0/11 [00:00<?, ?it/s]"
     ]
    },
    {
     "name": "stdout",
     "output_type": "stream",
     "text": [
      "The job analysis was saved and received the ID: 229\n"
     ]
    },
    {
     "name": "stderr",
     "output_type": "stream",
     "text": [
      "100%|██████████| 11/11 [00:13<00:00,  1.22s/it]\n",
      "2020-08-26 17:46:54,689 - pyiron_log - WARNING - The job analysis is being loaded instead of running. To re-run use the argument 'delete_existing_job=True in create_job'\n"
     ]
    }
   ],
   "source": [
    "pyiron_table.run()"
   ]
  },
  {
   "cell_type": "markdown",
   "metadata": {},
   "source": [
    "### Summary"
   ]
  },
  {
   "cell_type": "code",
   "execution_count": 27,
   "metadata": {
    "ExecuteTime": {
     "end_time": "2019-03-19T11:35:05.099186Z",
     "start_time": "2019-03-19T11:35:05.086224Z"
    }
   },
   "outputs": [
    {
     "data": {
      "text/html": [
       "<div>\n",
       "<style scoped>\n",
       "    .dataframe tbody tr th:only-of-type {\n",
       "        vertical-align: middle;\n",
       "    }\n",
       "\n",
       "    .dataframe tbody tr th {\n",
       "        vertical-align: top;\n",
       "    }\n",
       "\n",
       "    .dataframe thead th {\n",
       "        text-align: right;\n",
       "    }\n",
       "</style>\n",
       "<table border=\"1\" class=\"dataframe\">\n",
       "  <thead>\n",
       "    <tr style=\"text-align: right;\">\n",
       "      <th></th>\n",
       "      <th>job_name</th>\n",
       "      <th>job_id</th>\n",
       "      <th>energy_tot</th>\n",
       "      <th>structure</th>\n",
       "      <th>forces</th>\n",
       "    </tr>\n",
       "  </thead>\n",
       "  <tbody>\n",
       "    <tr>\n",
       "      <th>4</th>\n",
       "      <td>strain_0_9</td>\n",
       "      <td>222</td>\n",
       "      <td>-3.633465</td>\n",
       "      <td>{\"symbols\": [\"Al\"], \"positions\": [[0.0, 0.0, 0.0]], \"cell\": [[0.0, 1.955116, 1.955116], [1.955116, 0.0, 1.955116], [1.955116, 1.955116, 0.0]], \"pbc\": [true, true, true], \"celldisp\": [[0.0], [0.0],...</td>\n",
       "      <td>[[0.0, 0.0, 0.0]]</td>\n",
       "    </tr>\n",
       "    <tr>\n",
       "      <th>3</th>\n",
       "      <td>strain_0_92</td>\n",
       "      <td>221</td>\n",
       "      <td>-3.652753</td>\n",
       "      <td>{\"symbols\": [\"Al\"], \"positions\": [[0.0, 0.0, 0.0]], \"cell\": [[0.0, 1.969492, 1.969492], [1.969492, 0.0, 1.969492], [1.969492, 1.969492, 0.0]], \"pbc\": [true, true, true], \"celldisp\": [[0.0], [0.0],...</td>\n",
       "      <td>[[0.0, 0.0, 0.0]]</td>\n",
       "    </tr>\n",
       "    <tr>\n",
       "      <th>1</th>\n",
       "      <td>strain_0_94</td>\n",
       "      <td>219</td>\n",
       "      <td>-3.666954</td>\n",
       "      <td>{\"symbols\": [\"Al\"], \"positions\": [[0.0, 0.0, 0.0]], \"cell\": [[0.0, 1.983662, 1.983662], [1.983662, 0.0, 1.983662], [1.983662, 1.983662, 0.0]], \"pbc\": [true, true, true], \"celldisp\": [[0.0], [0.0],...</td>\n",
       "      <td>[[0.0, 0.0, 0.0]]</td>\n",
       "    </tr>\n",
       "    <tr>\n",
       "      <th>9</th>\n",
       "      <td>strain_0_96</td>\n",
       "      <td>227</td>\n",
       "      <td>-3.676548</td>\n",
       "      <td>{\"symbols\": [\"Al\"], \"positions\": [[0.0, 0.0, 0.0]], \"cell\": [[0.0, 1.997632, 1.997632], [1.997632, 0.0, 1.997632], [1.997632, 1.997632, 0.0]], \"pbc\": [true, true, true], \"celldisp\": [[0.0], [0.0],...</td>\n",
       "      <td>[[-0.0, 0.0, 0.0]]</td>\n",
       "    </tr>\n",
       "    <tr>\n",
       "      <th>0</th>\n",
       "      <td>strain_0_98</td>\n",
       "      <td>218</td>\n",
       "      <td>-3.682013</td>\n",
       "      <td>{\"symbols\": [\"Al\"], \"positions\": [[0.0, 0.0, 0.0]], \"cell\": [[0.0, 2.011409, 2.011409], [2.011409, 0.0, 2.011409], [2.011409, 2.011409, 0.0]], \"pbc\": [true, true, true], \"celldisp\": [[0.0], [0.0],...</td>\n",
       "      <td>[[0.0, 0.0, 0.0]]</td>\n",
       "    </tr>\n",
       "    <tr>\n",
       "      <th>2</th>\n",
       "      <td>strain_1_0</td>\n",
       "      <td>220</td>\n",
       "      <td>-3.683725</td>\n",
       "      <td>{\"symbols\": [\"Al\"], \"positions\": [[0.0, 0.0, 0.0]], \"cell\": [[0.0, 2.025, 2.025], [2.025, 0.0, 2.025], [2.025, 2.025, 0.0]], \"pbc\": [true, true, true], \"celldisp\": [[0.0], [0.0], [0.0]]}</td>\n",
       "      <td>[[-0.0, 0.0, 0.0]]</td>\n",
       "    </tr>\n",
       "    <tr>\n",
       "      <th>10</th>\n",
       "      <td>strain_1_02</td>\n",
       "      <td>228</td>\n",
       "      <td>-3.682209</td>\n",
       "      <td>{\"symbols\": [\"Al\"], \"positions\": [[0.0, 0.0, 0.0]], \"cell\": [[0.0, 2.038411, 2.038411], [2.038411, 0.0, 2.038411], [2.038411, 2.038411, 0.0]], \"pbc\": [true, true, true], \"celldisp\": [[0.0], [0.0],...</td>\n",
       "      <td>[[0.0, -0.0, 0.0]]</td>\n",
       "    </tr>\n",
       "    <tr>\n",
       "      <th>8</th>\n",
       "      <td>strain_1_04</td>\n",
       "      <td>226</td>\n",
       "      <td>-3.677397</td>\n",
       "      <td>{\"symbols\": [\"Al\"], \"positions\": [[0.0, 0.0, 0.0]], \"cell\": [[0.0, 2.051648, 2.051648], [2.051648, 0.0, 2.051648], [2.051648, 2.051648, 0.0]], \"pbc\": [true, true, true], \"celldisp\": [[0.0], [0.0],...</td>\n",
       "      <td>[[0.0, 0.0, 0.0]]</td>\n",
       "    </tr>\n",
       "    <tr>\n",
       "      <th>6</th>\n",
       "      <td>strain_1_06</td>\n",
       "      <td>224</td>\n",
       "      <td>-3.670148</td>\n",
       "      <td>{\"symbols\": [\"Al\"], \"positions\": [[0.0, 0.0, 0.0]], \"cell\": [[0.0, 2.064716, 2.064716], [2.064716, 0.0, 2.064716], [2.064716, 2.064716, 0.0]], \"pbc\": [true, true, true], \"celldisp\": [[0.0], [0.0],...</td>\n",
       "      <td>[[0.0, 0.0, 0.0]]</td>\n",
       "    </tr>\n",
       "    <tr>\n",
       "      <th>7</th>\n",
       "      <td>strain_1_08</td>\n",
       "      <td>225</td>\n",
       "      <td>-3.660563</td>\n",
       "      <td>{\"symbols\": [\"Al\"], \"positions\": [[0.0, 0.0, 0.0]], \"cell\": [[0.0, 2.077621, 2.077621], [2.077621, 0.0, 2.077621], [2.077621, 2.077621, 0.0]], \"pbc\": [true, true, true], \"celldisp\": [[0.0], [0.0],...</td>\n",
       "      <td>[[0.0, 0.0, 0.0]]</td>\n",
       "    </tr>\n",
       "    <tr>\n",
       "      <th>5</th>\n",
       "      <td>strain_1_1</td>\n",
       "      <td>223</td>\n",
       "      <td>-3.648481</td>\n",
       "      <td>{\"symbols\": [\"Al\"], \"positions\": [[0.0, 0.0, 0.0]], \"cell\": [[0.0, 2.090367, 2.090367], [2.090367, 0.0, 2.090367], [2.090367, 2.090367, 0.0]], \"pbc\": [true, true, true], \"celldisp\": [[0.0], [0.0],...</td>\n",
       "      <td>[[0.0, 0.0, 0.0]]</td>\n",
       "    </tr>\n",
       "  </tbody>\n",
       "</table>\n",
       "</div>"
      ],
      "text/plain": [
       "       job_name  job_id  energy_tot  \\\n",
       "4    strain_0_9     222   -3.633465   \n",
       "3   strain_0_92     221   -3.652753   \n",
       "1   strain_0_94     219   -3.666954   \n",
       "9   strain_0_96     227   -3.676548   \n",
       "0   strain_0_98     218   -3.682013   \n",
       "2    strain_1_0     220   -3.683725   \n",
       "10  strain_1_02     228   -3.682209   \n",
       "8   strain_1_04     226   -3.677397   \n",
       "6   strain_1_06     224   -3.670148   \n",
       "7   strain_1_08     225   -3.660563   \n",
       "5    strain_1_1     223   -3.648481   \n",
       "\n",
       "                                                                                                                                                                                                  structure  \\\n",
       "4   {\"symbols\": [\"Al\"], \"positions\": [[0.0, 0.0, 0.0]], \"cell\": [[0.0, 1.955116, 1.955116], [1.955116, 0.0, 1.955116], [1.955116, 1.955116, 0.0]], \"pbc\": [true, true, true], \"celldisp\": [[0.0], [0.0],...   \n",
       "3   {\"symbols\": [\"Al\"], \"positions\": [[0.0, 0.0, 0.0]], \"cell\": [[0.0, 1.969492, 1.969492], [1.969492, 0.0, 1.969492], [1.969492, 1.969492, 0.0]], \"pbc\": [true, true, true], \"celldisp\": [[0.0], [0.0],...   \n",
       "1   {\"symbols\": [\"Al\"], \"positions\": [[0.0, 0.0, 0.0]], \"cell\": [[0.0, 1.983662, 1.983662], [1.983662, 0.0, 1.983662], [1.983662, 1.983662, 0.0]], \"pbc\": [true, true, true], \"celldisp\": [[0.0], [0.0],...   \n",
       "9   {\"symbols\": [\"Al\"], \"positions\": [[0.0, 0.0, 0.0]], \"cell\": [[0.0, 1.997632, 1.997632], [1.997632, 0.0, 1.997632], [1.997632, 1.997632, 0.0]], \"pbc\": [true, true, true], \"celldisp\": [[0.0], [0.0],...   \n",
       "0   {\"symbols\": [\"Al\"], \"positions\": [[0.0, 0.0, 0.0]], \"cell\": [[0.0, 2.011409, 2.011409], [2.011409, 0.0, 2.011409], [2.011409, 2.011409, 0.0]], \"pbc\": [true, true, true], \"celldisp\": [[0.0], [0.0],...   \n",
       "2                {\"symbols\": [\"Al\"], \"positions\": [[0.0, 0.0, 0.0]], \"cell\": [[0.0, 2.025, 2.025], [2.025, 0.0, 2.025], [2.025, 2.025, 0.0]], \"pbc\": [true, true, true], \"celldisp\": [[0.0], [0.0], [0.0]]}   \n",
       "10  {\"symbols\": [\"Al\"], \"positions\": [[0.0, 0.0, 0.0]], \"cell\": [[0.0, 2.038411, 2.038411], [2.038411, 0.0, 2.038411], [2.038411, 2.038411, 0.0]], \"pbc\": [true, true, true], \"celldisp\": [[0.0], [0.0],...   \n",
       "8   {\"symbols\": [\"Al\"], \"positions\": [[0.0, 0.0, 0.0]], \"cell\": [[0.0, 2.051648, 2.051648], [2.051648, 0.0, 2.051648], [2.051648, 2.051648, 0.0]], \"pbc\": [true, true, true], \"celldisp\": [[0.0], [0.0],...   \n",
       "6   {\"symbols\": [\"Al\"], \"positions\": [[0.0, 0.0, 0.0]], \"cell\": [[0.0, 2.064716, 2.064716], [2.064716, 0.0, 2.064716], [2.064716, 2.064716, 0.0]], \"pbc\": [true, true, true], \"celldisp\": [[0.0], [0.0],...   \n",
       "7   {\"symbols\": [\"Al\"], \"positions\": [[0.0, 0.0, 0.0]], \"cell\": [[0.0, 2.077621, 2.077621], [2.077621, 0.0, 2.077621], [2.077621, 2.077621, 0.0]], \"pbc\": [true, true, true], \"celldisp\": [[0.0], [0.0],...   \n",
       "5   {\"symbols\": [\"Al\"], \"positions\": [[0.0, 0.0, 0.0]], \"cell\": [[0.0, 2.090367, 2.090367], [2.090367, 0.0, 2.090367], [2.090367, 2.090367, 0.0]], \"pbc\": [true, true, true], \"celldisp\": [[0.0], [0.0],...   \n",
       "\n",
       "                forces  \n",
       "4    [[0.0, 0.0, 0.0]]  \n",
       "3    [[0.0, 0.0, 0.0]]  \n",
       "1    [[0.0, 0.0, 0.0]]  \n",
       "9   [[-0.0, 0.0, 0.0]]  \n",
       "0    [[0.0, 0.0, 0.0]]  \n",
       "2   [[-0.0, 0.0, 0.0]]  \n",
       "10  [[0.0, -0.0, 0.0]]  \n",
       "8    [[0.0, 0.0, 0.0]]  \n",
       "6    [[0.0, 0.0, 0.0]]  \n",
       "7    [[0.0, 0.0, 0.0]]  \n",
       "5    [[0.0, 0.0, 0.0]]  "
      ]
     },
     "execution_count": 27,
     "metadata": {},
     "output_type": "execute_result"
    }
   ],
   "source": [
    "df_fit = pyiron_table.get_dataframe().sort_values(by='job_name')\n",
    "df_fit"
   ]
  },
  {
   "cell_type": "markdown",
   "metadata": {},
   "source": [
    "## Fit lennard jones potential "
   ]
  },
  {
   "cell_type": "markdown",
   "metadata": {},
   "source": [
    "### Define Fit functions "
   ]
  },
  {
   "cell_type": "code",
   "execution_count": 28,
   "metadata": {
    "ExecuteTime": {
     "end_time": "2019-03-19T11:35:05.108827Z",
     "start_time": "2019-03-19T11:35:05.102303Z"
    }
   },
   "outputs": [],
   "source": [
    "def set_structure_run_and_get_energy_and_forces(job, structure): \n",
    "    job.structure = structure \n",
    "    job.run()\n",
    "    return job.output.energy_tot[-1], job.output.forces[-1] "
   ]
  },
  {
   "cell_type": "code",
   "execution_count": 29,
   "metadata": {
    "ExecuteTime": {
     "end_time": "2019-03-19T11:35:05.117430Z",
     "start_time": "2019-03-19T11:35:05.111729Z"
    }
   },
   "outputs": [],
   "source": [
    "def get_potential(eps, sigma, cutoff=10.0):\n",
    "    return pd.DataFrame({'Name': ['Al3ScLennardJones'],\n",
    "                         'Filename': [[]],                             \n",
    "                         'Model'   : ['LJ'], \n",
    "                         'Species' : [['Al']], \n",
    "                         'Config'  : [['pair_style lj/cut %f \\n'%cutoff, \n",
    "                                       'pair_coeff 1 1 %.16f %.16f \\n'%(eps, sigma)]]})"
   ]
  },
  {
   "cell_type": "code",
   "execution_count": 30,
   "metadata": {
    "ExecuteTime": {
     "end_time": "2019-03-19T11:35:05.127839Z",
     "start_time": "2019-03-19T11:35:05.121235Z"
    }
   },
   "outputs": [],
   "source": [
    "def compute_lj(job_lj, structure_lst, energy_lst, forces_lst, eps, sigma, cutoff=10.0, force_weight=0.1):\n",
    "    method_dict['eps'].append(eps)\n",
    "    method_dict['sigma'].append(sigma)\n",
    "    job_lj.potential = get_potential(eps, sigma, cutoff)\n",
    "    lj_energy_lst, lj_force_lst = zip(*[set_structure_run_and_get_energy_and_forces(job_lj, structure) for structure in structure_lst])\n",
    "    total_loss = (np.linalg.norm(np.array(energy_lst) - np.array(lj_energy_lst))) + force_weight*np.linalg.norm(np.array(forces_lst) - np.array(lj_force_lst))\n",
    "    method_dict['loss'].append(total_loss)\n",
    "    return total_loss"
   ]
  },
  {
   "cell_type": "code",
   "execution_count": 31,
   "metadata": {
    "ExecuteTime": {
     "end_time": "2019-03-19T11:35:05.135858Z",
     "start_time": "2019-03-19T11:35:05.131312Z"
    }
   },
   "outputs": [],
   "source": [
    "def loss(initial_params): \n",
    "    eps, sigma = initial_params\n",
    "    return compute_lj(job_lj=job_lj, \n",
    "                      structure_lst=structure_lst, \n",
    "                      energy_lst=energy_tot,\n",
    "                      eps=eps, \n",
    "                      sigma=sigma, \n",
    "                      forces_lst=forces) "
   ]
  },
  {
   "cell_type": "markdown",
   "metadata": {},
   "source": [
    "### Datastructure "
   ]
  },
  {
   "cell_type": "code",
   "execution_count": 32,
   "metadata": {
    "ExecuteTime": {
     "end_time": "2019-03-19T11:35:05.143603Z",
     "start_time": "2019-03-19T11:35:05.139868Z"
    }
   },
   "outputs": [],
   "source": [
    "method_dict = {'eps': [], 'sigma': [], 'loss': []}"
   ]
  },
  {
   "cell_type": "code",
   "execution_count": 33,
   "metadata": {
    "ExecuteTime": {
     "end_time": "2019-03-19T11:35:05.265333Z",
     "start_time": "2019-03-19T11:35:05.146745Z"
    }
   },
   "outputs": [],
   "source": [
    "energy_tot = df_fit.energy_tot.values\n",
    "# energy_tot -= np.min(energy_tot)  # normalise to the equlibrium energy \n",
    "structure_lst = [Atoms(**json.loads(s)) for s in df_fit.structure.values]\n",
    "forces = np.array([json.loads(f) for f in df_fit.forces.values])"
   ]
  },
  {
   "cell_type": "markdown",
   "metadata": {},
   "source": [
    "### Run fitting "
   ]
  },
  {
   "cell_type": "code",
   "execution_count": 34,
   "metadata": {
    "ExecuteTime": {
     "end_time": "2019-03-19T11:35:05.292382Z",
     "start_time": "2019-03-19T11:35:05.266999Z"
    }
   },
   "outputs": [],
   "source": [
    "job_lj = pr_fit.create_job(job_name='lj_fitting', job_type=pr_fit.job_type.Lammps)\n",
    "job_lj.server.run_mode.interactive = True\n",
    "job_lj.interactive_enforce_structure_reset = True"
   ]
  },
  {
   "cell_type": "code",
   "execution_count": 35,
   "metadata": {
    "ExecuteTime": {
     "end_time": "2019-03-19T11:37:47.894115Z",
     "start_time": "2019-03-19T11:35:05.295568Z"
    }
   },
   "outputs": [
    {
     "name": "stdout",
     "output_type": "stream",
     "text": [
      "The job lj_fitting was saved and received the ID: 230\n"
     ]
    },
    {
     "data": {
      "text/plain": [
       " final_simplex: (array([[0.44137738, 2.61414009],\n",
       "       [0.44134914, 2.61407324],\n",
       "       [0.44135744, 2.6141984 ]]), array([0.11948243, 0.11948461, 0.11948472]))\n",
       "           fun: 0.11948242773199413\n",
       "       message: 'Optimization terminated successfully.'\n",
       "          nfev: 55\n",
       "           nit: 28\n",
       "        status: 0\n",
       "       success: True\n",
       "             x: array([0.44137738, 2.61414009])"
      ]
     },
     "execution_count": 35,
     "metadata": {},
     "output_type": "execute_result"
    }
   ],
   "source": [
    "res = minimize(loss, [0.5, 2.5], method='Nelder-Mead')\n",
    "res"
   ]
  },
  {
   "cell_type": "code",
   "execution_count": 36,
   "metadata": {
    "ExecuteTime": {
     "end_time": "2019-03-19T11:37:47.901364Z",
     "start_time": "2019-03-19T11:37:47.896817Z"
    }
   },
   "outputs": [
    {
     "data": {
      "text/plain": [
       "True"
      ]
     },
     "execution_count": 36,
     "metadata": {},
     "output_type": "execute_result"
    }
   ],
   "source": [
    "res.success"
   ]
  },
  {
   "cell_type": "code",
   "execution_count": 37,
   "metadata": {
    "ExecuteTime": {
     "end_time": "2019-03-19T11:37:47.910190Z",
     "start_time": "2019-03-19T11:37:47.905746Z"
    }
   },
   "outputs": [],
   "source": [
    "eps_final, sigma_final = res.x "
   ]
  },
  {
   "cell_type": "code",
   "execution_count": 38,
   "metadata": {
    "ExecuteTime": {
     "end_time": "2019-03-19T11:37:49.080651Z",
     "start_time": "2019-03-19T11:37:47.914561Z"
    }
   },
   "outputs": [],
   "source": [
    "job_lj.interactive_close()"
   ]
  },
  {
   "cell_type": "markdown",
   "metadata": {},
   "source": [
    "### Plots "
   ]
  },
  {
   "cell_type": "code",
   "execution_count": 39,
   "metadata": {
    "ExecuteTime": {
     "end_time": "2019-03-19T11:37:49.418060Z",
     "start_time": "2019-03-19T11:37:49.082166Z"
    }
   },
   "outputs": [
    {
     "data": {
      "text/plain": [
       "Text(0.5, 0, 'iteration')"
      ]
     },
     "execution_count": 39,
     "metadata": {},
     "output_type": "execute_result"
    },
    {
     "data": {
      "image/png": "[encoded data removed]",
      "text/plain": [
       "<Figure size 432x288 with 1 Axes>"
      ]
     },
     "metadata": {
      "needs_background": "light"
     },
     "output_type": "display_data"
    }
   ],
   "source": [
    "plt.plot(method_dict['eps'])\n",
    "plt.plot([len(method_dict['eps'])], [eps_final], 'x')\n",
    "plt.title('eps')\n",
    "plt.xlabel('iteration')"
   ]
  },
  {
   "cell_type": "code",
   "execution_count": 40,
   "metadata": {
    "ExecuteTime": {
     "end_time": "2019-03-19T11:37:49.617349Z",
     "start_time": "2019-03-19T11:37:49.422020Z"
    }
   },
   "outputs": [
    {
     "data": {
      "text/plain": [
       "Text(0.5, 0, 'iteration')"
      ]
     },
     "execution_count": 40,
     "metadata": {},
     "output_type": "execute_result"
    },
    {
     "data": {
      "image/png": "[encoded data removed]",
      "text/plain": [
       "<Figure size 432x288 with 1 Axes>"
      ]
     },
     "metadata": {
      "needs_background": "light"
     },
     "output_type": "display_data"
    }
   ],
   "source": [
    "plt.plot(method_dict['sigma'])\n",
    "plt.plot([len(method_dict['sigma'])], [sigma_final], 'x')\n",
    "plt.title('sigma')\n",
    "plt.xlabel('iteration')"
   ]
  },
  {
   "cell_type": "code",
   "execution_count": 41,
   "metadata": {
    "ExecuteTime": {
     "end_time": "2019-03-19T11:37:50.039839Z",
     "start_time": "2019-03-19T11:37:49.621437Z"
    }
   },
   "outputs": [
    {
     "data": {
      "text/plain": [
       "Text(0.5, 0, 'iteration')"
      ]
     },
     "execution_count": 41,
     "metadata": {},
     "output_type": "execute_result"
    },
    {
     "data": {
      "image/png": "[encoded data removed]",
      "text/plain": [
       "<Figure size 432x288 with 1 Axes>"
      ]
     },
     "metadata": {
      "needs_background": "light"
     },
     "output_type": "display_data"
    }
   ],
   "source": [
    "plt.plot(method_dict['loss'])\n",
    "plt.title('loss')\n",
    "plt.yscale('log')\n",
    "plt.xlabel('iteration')"
   ]
  },
  {
   "cell_type": "markdown",
   "metadata": {},
   "source": [
    "### Validation "
   ]
  },
  {
   "cell_type": "code",
   "execution_count": 42,
   "metadata": {
    "ExecuteTime": {
     "end_time": "2019-03-19T11:37:50.070003Z",
     "start_time": "2019-03-19T11:37:50.042958Z"
    }
   },
   "outputs": [],
   "source": [
    "job_lj = pr_fit.create_job(job_name='lj_validation', job_type=pr_fit.job_type.Lammps)\n",
    "job_lj.server.run_mode.interactive = True\n",
    "job_lj.interactive_enforce_structure_reset = True"
   ]
  },
  {
   "cell_type": "code",
   "execution_count": 43,
   "metadata": {
    "ExecuteTime": {
     "end_time": "2019-03-19T11:37:50.076642Z",
     "start_time": "2019-03-19T11:37:50.072730Z"
    }
   },
   "outputs": [],
   "source": [
    "job_lj.potential = get_potential(eps=eps_final, sigma=sigma_final, cutoff=10.0)"
   ]
  },
  {
   "cell_type": "code",
   "execution_count": 44,
   "metadata": {
    "ExecuteTime": {
     "end_time": "2019-03-19T11:37:50.092691Z",
     "start_time": "2019-03-19T11:37:50.079866Z"
    }
   },
   "outputs": [],
   "source": [
    "job_lj.structure = structure_lst[len(structure_lst)//2]"
   ]
  },
  {
   "cell_type": "code",
   "execution_count": 45,
   "metadata": {
    "ExecuteTime": {
     "end_time": "2019-03-19T11:37:50.108435Z",
     "start_time": "2019-03-19T11:37:50.094252Z"
    }
   },
   "outputs": [],
   "source": [
    "murn = job_lj.create_job(job_type=pr_fit.job_type.Murnaghan, job_name='murn')"
   ]
  },
  {
   "cell_type": "code",
   "execution_count": 46,
   "metadata": {
    "ExecuteTime": {
     "end_time": "2019-03-19T11:37:53.933825Z",
     "start_time": "2019-03-19T11:37:50.111140Z"
    }
   },
   "outputs": [
    {
     "name": "stdout",
     "output_type": "stream",
     "text": [
      "The job murn was saved and received the ID: 231\n",
      "The job murn_lj_validation was saved and received the ID: 232\n"
     ]
    }
   ],
   "source": [
    "murn.run()"
   ]
  },
  {
   "cell_type": "code",
   "execution_count": 47,
   "metadata": {
    "ExecuteTime": {
     "end_time": "2019-03-19T11:37:54.233972Z",
     "start_time": "2019-03-19T11:37:53.936841Z"
    }
   },
   "outputs": [
    {
     "data": {
      "image/png": "[encoded data removed]",
      "text/plain": [
       "<Figure size 432x288 with 1 Axes>"
      ]
     },
     "metadata": {
      "needs_background": "light"
     },
     "output_type": "display_data"
    }
   ],
   "source": [
    "murn.plot()"
   ]
  },
  {
   "cell_type": "markdown",
   "metadata": {},
   "source": [
    "# Debugging "
   ]
  },
  {
   "cell_type": "code",
   "execution_count": 48,
   "metadata": {
    "ExecuteTime": {
     "end_time": "2019-03-19T11:37:54.282713Z",
     "start_time": "2019-03-19T11:37:54.237842Z"
    }
   },
   "outputs": [
    {
     "data": {
      "text/plain": [
       "array([-3.58127705, -3.63234679, -3.68120827, -3.71092214, -3.72461463,\n",
       "       -3.72492051, -3.71406429, -3.68737117, -3.6597912 , -3.6258606 ,\n",
       "       -3.58672662])"
      ]
     },
     "execution_count": 48,
     "metadata": {},
     "output_type": "execute_result"
    }
   ],
   "source": [
    "murn['output/energy']"
   ]
  },
  {
   "cell_type": "code",
   "execution_count": 49,
   "metadata": {
    "ExecuteTime": {
     "end_time": "2019-03-19T11:37:54.303921Z",
     "start_time": "2019-03-19T11:37:54.286711Z"
    }
   },
   "outputs": [
    {
     "data": {
      "text/plain": [
       "array([-3.63346466, -3.65275266, -3.66695446, -3.67654829, -3.68201295,\n",
       "       -3.68372519, -3.68220902, -3.67739734, -3.67014759, -3.66056283,\n",
       "       -3.64848126])"
      ]
     },
     "execution_count": 49,
     "metadata": {},
     "output_type": "execute_result"
    }
   ],
   "source": [
    "energy_tot"
   ]
  },
  {
   "cell_type": "code",
   "execution_count": 50,
   "metadata": {
    "ExecuteTime": {
     "end_time": "2019-03-19T11:37:54.353706Z",
     "start_time": "2019-03-19T11:37:54.316100Z"
    }
   },
   "outputs": [
    {
     "data": {
      "text/plain": [
       "array([ True,  True,  True,  True,  True,  True,  True,  True,  True,\n",
       "        True,  True])"
      ]
     },
     "execution_count": 50,
     "metadata": {},
     "output_type": "execute_result"
    }
   ],
   "source": [
    "np.isclose(np.array([s.get_volume() for s in structure_lst]), murn['output/volume'])"
   ]
  },
  {
   "cell_type": "code",
   "execution_count": 51,
   "metadata": {
    "ExecuteTime": {
     "end_time": "2019-03-19T11:37:54.399214Z",
     "start_time": "2019-03-19T11:37:54.362560Z"
    }
   },
   "outputs": [
    {
     "data": {
      "text/plain": [
       "[Al: [0. 0. 0.]\n",
       " pbc: [ True  True  True]\n",
       " cell: \n",
       " Cell([[0.0, 1.955116, 1.955116], [1.955116, 0.0, 1.955116], [1.955116, 1.955116, 0.0]]),\n",
       " Al: [0. 0. 0.]\n",
       " pbc: [ True  True  True]\n",
       " cell: \n",
       " Cell([[0.0, 1.969492, 1.969492], [1.969492, 0.0, 1.969492], [1.969492, 1.969492, 0.0]]),\n",
       " Al: [0. 0. 0.]\n",
       " pbc: [ True  True  True]\n",
       " cell: \n",
       " Cell([[0.0, 1.983662, 1.983662], [1.983662, 0.0, 1.983662], [1.983662, 1.983662, 0.0]]),\n",
       " Al: [0. 0. 0.]\n",
       " pbc: [ True  True  True]\n",
       " cell: \n",
       " Cell([[0.0, 1.997632, 1.997632], [1.997632, 0.0, 1.997632], [1.997632, 1.997632, 0.0]]),\n",
       " Al: [0. 0. 0.]\n",
       " pbc: [ True  True  True]\n",
       " cell: \n",
       " Cell([[0.0, 2.011409, 2.011409], [2.011409, 0.0, 2.011409], [2.011409, 2.011409, 0.0]]),\n",
       " Al: [0. 0. 0.]\n",
       " pbc: [ True  True  True]\n",
       " cell: \n",
       " Cell([[0.0, 2.025, 2.025], [2.025, 0.0, 2.025], [2.025, 2.025, 0.0]]),\n",
       " Al: [0. 0. 0.]\n",
       " pbc: [ True  True  True]\n",
       " cell: \n",
       " Cell([[0.0, 2.038411, 2.038411], [2.038411, 0.0, 2.038411], [2.038411, 2.038411, 0.0]]),\n",
       " Al: [0. 0. 0.]\n",
       " pbc: [ True  True  True]\n",
       " cell: \n",
       " Cell([[0.0, 2.051648, 2.051648], [2.051648, 0.0, 2.051648], [2.051648, 2.051648, 0.0]]),\n",
       " Al: [0. 0. 0.]\n",
       " pbc: [ True  True  True]\n",
       " cell: \n",
       " Cell([[0.0, 2.064716, 2.064716], [2.064716, 0.0, 2.064716], [2.064716, 2.064716, 0.0]]),\n",
       " Al: [0. 0. 0.]\n",
       " pbc: [ True  True  True]\n",
       " cell: \n",
       " Cell([[0.0, 2.077621, 2.077621], [2.077621, 0.0, 2.077621], [2.077621, 2.077621, 0.0]]),\n",
       " Al: [0. 0. 0.]\n",
       " pbc: [ True  True  True]\n",
       " cell: \n",
       " Cell([[0.0, 2.090367, 2.090367], [2.090367, 0.0, 2.090367], [2.090367, 2.090367, 0.0]])]"
      ]
     },
     "execution_count": 51,
     "metadata": {},
     "output_type": "execute_result"
    }
   ],
   "source": [
    "structure_lst"
   ]
  },
  {
   "cell_type": "code",
   "execution_count": 52,
   "metadata": {
    "ExecuteTime": {
     "end_time": "2019-03-19T11:37:54.418489Z",
     "start_time": "2019-03-19T11:37:54.403566Z"
    }
   },
   "outputs": [
    {
     "data": {
      "text/plain": [
       "array([[[ 0.,  0.,  0.]],\n",
       "\n",
       "       [[ 0.,  0.,  0.]],\n",
       "\n",
       "       [[ 0.,  0.,  0.]],\n",
       "\n",
       "       [[-0.,  0.,  0.]],\n",
       "\n",
       "       [[ 0.,  0.,  0.]],\n",
       "\n",
       "       [[-0.,  0.,  0.]],\n",
       "\n",
       "       [[ 0., -0.,  0.]],\n",
       "\n",
       "       [[ 0.,  0.,  0.]],\n",
       "\n",
       "       [[ 0.,  0.,  0.]],\n",
       "\n",
       "       [[ 0.,  0.,  0.]],\n",
       "\n",
       "       [[ 0.,  0.,  0.]]])"
      ]
     },
     "execution_count": 52,
     "metadata": {},
     "output_type": "execute_result"
    }
   ],
   "source": [
    "forces"
   ]
  },
  {
   "cell_type": "code",
   "execution_count": 53,
   "metadata": {
    "ExecuteTime": {
     "end_time": "2019-03-19T11:37:54.443006Z",
     "start_time": "2019-03-19T11:37:54.422209Z"
    }
   },
   "outputs": [
    {
     "data": {
      "text/plain": [
       "{'eps': [0.5,\n",
       "  0.525,\n",
       "  0.5,\n",
       "  0.475,\n",
       "  0.44999999999999996,\n",
       "  0.44999999999999996,\n",
       "  0.4249999999999998,\n",
       "  0.3999999999999999,\n",
       "  0.475,\n",
       "  0.42499999999999993,\n",
       "  0.46249999999999997,\n",
       "  0.4624999999999999,\n",
       "  0.45312499999999994,\n",
       "  0.440625,\n",
       "  0.4296874999999999,\n",
       "  0.44375,\n",
       "  0.44843749999999993,\n",
       "  0.4359374999999999,\n",
       "  0.4488281249999999,\n",
       "  0.441015625,\n",
       "  0.43281250000000004,\n",
       "  0.44482421874999994,\n",
       "  0.43681640625,\n",
       "  0.44282226562499993,\n",
       "  0.44243164062499984,\n",
       "  0.44136962890625,\n",
       "  0.4435668945312499,\n",
       "  0.4413604736328125,\n",
       "  0.4428314208984374,\n",
       "  0.44172821044921873,\n",
       "  0.44027557373046877,\n",
       "  0.4409122467041015,\n",
       "  0.4412708282470702,\n",
       "  0.44134492874145503,\n",
       "  0.44052896499633787,\n",
       "  0.4414283990859985,\n",
       "  0.44186108112335204,\n",
       "  0.44114945530891414,\n",
       "  0.4412329256534576,\n",
       "  0.44131692796945565,\n",
       "  0.44159587174654,\n",
       "  0.4412610594183206,\n",
       "  0.44114958830177775,\n",
       "  0.4413586963899433,\n",
       "  0.44130282783880825,\n",
       "  0.4413134029367938,\n",
       "  0.44141103990841646,\n",
       "  0.44148603015346444,\n",
       "  0.441456333361566,\n",
       "  0.4413491355429868,\n",
       "  0.44140147906146,\n",
       "  0.44133957469603036,\n",
       "  0.4413574409991268,\n",
       "  0.4413050974806536,\n",
       "  0.4413773836662584],\n",
       " 'sigma': [2.5,\n",
       "  2.5,\n",
       "  2.625,\n",
       "  2.625,\n",
       "  2.6875,\n",
       "  2.5625,\n",
       "  2.53125,\n",
       "  2.75,\n",
       "  2.5625,\n",
       "  2.6875,\n",
       "  2.59375,\n",
       "  2.46875,\n",
       "  2.6328125,\n",
       "  2.6015625,\n",
       "  2.60546875,\n",
       "  2.671875,\n",
       "  2.58984375,\n",
       "  2.55859375,\n",
       "  2.6142578125,\n",
       "  2.6259765625,\n",
       "  2.61328125,\n",
       "  2.614013671875,\n",
       "  2.613525390625,\n",
       "  2.6138916015625,\n",
       "  2.5894775390625,\n",
       "  2.616851806640625,\n",
       "  2.629180908203125,\n",
       "  2.6084671020507812,\n",
       "  2.6222763061523438,\n",
       "  2.611919403076172,\n",
       "  2.614879608154297,\n",
       "  2.6146326065063477,\n",
       "  2.6097002029418945,\n",
       "  2.6150639057159424,\n",
       "  2.617777109146118,\n",
       "  2.6133838295936584,\n",
       "  2.613815128803253,\n",
       "  2.614428237080574,\n",
       "  2.61274816095829,\n",
       "  2.6144849695265293,\n",
       "  2.6134405620396137,\n",
       "  2.614181318320334,\n",
       "  2.615282458253205,\n",
       "  2.613858486758545,\n",
       "  2.6135548355523497,\n",
       "  2.6142524360329844,\n",
       "  2.6139296044711955,\n",
       "  2.6138037475466263,\n",
       "  2.613535655196756,\n",
       "  2.6140732408239273,\n",
       "  2.614144358536578,\n",
       "  2.6142879948893096,\n",
       "  2.614198397284781,\n",
       "  2.6141272795721306,\n",
       "  2.614140088795466],\n",
       " 'loss': [1.1112704649060159,\n",
       "  1.6958171902671724,\n",
       "  1.6074695955517933,\n",
       "  0.9242825923273928,\n",
       "  0.7302182866640734,\n",
       "  0.35880013905548386,\n",
       "  0.9071924012245663,\n",
       "  2.9667097725272003,\n",
       "  0.8618793588001286,\n",
       "  1.0978144589780532,\n",
       "  0.5953354614227279,\n",
       "  0.8261164977897906,\n",
       "  0.3469453796380313,\n",
       "  0.1500701783000672,\n",
       "  0.3491463670696224,\n",
       "  0.5619771782117309,\n",
       "  0.2649723018375266,\n",
       "  0.4652630531074248,\n",
       "  0.23754489305421564,\n",
       "  0.1513178237096219,\n",
       "  0.2641765093586827,\n",
       "  0.15271701723585,\n",
       "  0.1731971438807752,\n",
       "  0.12601349838327566,\n",
       "  0.2041618044755603,\n",
       "  0.12116373102972769,\n",
       "  0.17036187214451273,\n",
       "  0.12609426884166616,\n",
       "  0.137874289142225,\n",
       "  0.12098862860417994,\n",
       "  0.12347912600295625,\n",
       "  0.12024407572944129,\n",
       "  0.12361239814000075,\n",
       "  0.11968760380734295,\n",
       "  0.12517223650323078,\n",
       "  0.11961477086719913,\n",
       "  0.1202694818230005,\n",
       "  0.11967164824399426,\n",
       "  0.11993917869190719,\n",
       "  0.11952485945917497,\n",
       "  0.11975509420517283,\n",
       "  0.11952449578299942,\n",
       "  0.1199773863075245,\n",
       "  0.11949763218551435,\n",
       "  0.11956448664750731,\n",
       "  0.11949884731434875,\n",
       "  0.11949534786830238,\n",
       "  0.11954786458981273,\n",
       "  0.11958380189636963,\n",
       "  0.11948461038214869,\n",
       "  0.11948475758396682,\n",
       "  0.11949307540187,\n",
       "  0.11948472342776291,\n",
       "  0.1194974799858885,\n",
       "  0.11948242773199413]}"
      ]
     },
     "execution_count": 53,
     "metadata": {},
     "output_type": "execute_result"
    }
   ],
   "source": [
    "method_dict"
   ]
  },
  {
   "cell_type": "code",
   "execution_count": null,
   "metadata": {},
   "outputs": [],
   "source": []
  }
 ],
 "metadata": {
  "kernelspec": {
   "display_name": "Python 3",
   "language": "python",
   "name": "python3"
  },
  "language_info": {
   "codemirror_mode": {
    "name": "ipython",
    "version": 3
   },
   "file_extension": ".py",
   "mimetype": "text/x-python",
   "name": "python",
   "nbconvert_exporter": "python",
   "pygments_lexer": "ipython3",
   "version": "3.8.5"
  },
  "toc": {
   "base_numbering": 1,
   "nav_menu": {},
   "number_sections": true,
   "sideBar": true,
   "skip_h1_title": false,
   "title_cell": "Table of Contents",
   "title_sidebar": "Contents",
   "toc_cell": false,
   "toc_position": {},
   "toc_section_display": true,
   "toc_window_display": true
  }
 },
 "nbformat": 4,
 "nbformat_minor": 2
}
